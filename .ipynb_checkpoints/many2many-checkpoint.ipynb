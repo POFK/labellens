{
 "cells": [
  {
   "cell_type": "code",
   "execution_count": 1,
   "metadata": {
    "ExecuteTime": {
     "end_time": "2019-08-29T08:22:05.865707Z",
     "start_time": "2019-08-29T08:22:05.782385Z"
    }
   },
   "outputs": [],
   "source": [
    "from sqlalchemy import func\n",
    "from sqlalchemy.sql import select\n",
    "import sqlalchemy"
   ]
  },
  {
   "cell_type": "code",
   "execution_count": 2,
   "metadata": {
    "ExecuteTime": {
     "end_time": "2019-08-29T08:22:06.068020Z",
     "start_time": "2019-08-29T08:22:05.867822Z"
    }
   },
   "outputs": [],
   "source": [
    "from flask import Flask\n",
    "from config import Config\n",
    "from flask_sqlalchemy import SQLAlchemy\n",
    "from flask_migrate import Migrate\n",
    "import os\n",
    "from datetime import datetime\n",
    "\n",
    "basedir = \"/home/mtx/git/ranklens/app/test\"\n",
    "\n",
    "\n",
    "class Config(object):\n",
    "    SECRET_KEY = os.environ.get('SECRET_KEY') or 'you-will-never-guess'\n",
    "    DEBUG = True\n",
    "    SQLALCHEMY_DATABASE_URI = os.environ.get('DATABASE_URL') or \\\n",
    "        'sqlite:///' + os.path.join(basedir, 'app.db')\n",
    "    SQLALCHEMY_TRACK_MODIFICATIONS = True\n",
    "\n",
    "app = Flask(__name__)\n",
    "app.config.from_object(Config)\n",
    "\n",
    "db = SQLAlchemy(app)\n",
    "migrate = Migrate(app, db)"
   ]
  },
  {
   "cell_type": "code",
   "execution_count": 3,
   "metadata": {
    "ExecuteTime": {
     "end_time": "2019-08-29T08:22:06.079981Z",
     "start_time": "2019-08-29T08:22:06.070391Z"
    }
   },
   "outputs": [],
   "source": [
    "class User(db.Model):\n",
    "    id = db.Column(db.Integer, primary_key=True)\n",
    "    username = db.Column(db.String(64), index=True, unique=True)\n",
    "    email = db.Column(db.String(120), index=True, unique=True)\n",
    "    tags = db.relationship('Tag', backref='author', lazy='dynamic')\n",
    "    \n",
    "    def __repr__(self):\n",
    "        return '<User {}>'.format(self.username)\n"
   ]
  },
  {
   "cell_type": "code",
   "execution_count": 4,
   "metadata": {
    "ExecuteTime": {
     "end_time": "2019-08-29T08:22:06.102743Z",
     "start_time": "2019-08-29T08:22:06.083193Z"
    }
   },
   "outputs": [],
   "source": [
    "tags = db.Table('tags',\n",
    "    db.Column('tag_id', db.Integer, db.ForeignKey('tag.id')),\n",
    "    db.Column('page_id', db.Integer, db.ForeignKey('page.id'))\n",
    ")\n",
    " \n",
    "class Page(db.Model):\n",
    "    id = db.Column(db.Integer, primary_key=True)\n",
    "    name = db.Column(db.String)\n",
    "    tags = db.relationship('Tag', secondary=tags,\n",
    "        backref=db.backref('pages', lazy='dynamic'))\n",
    "    \n",
    "    def __repr__(self):\n",
    "        return '<Page {} Tag {}>'.format(self.name, self.tags)\n",
    "\n",
    "class Tag(db.Model):\n",
    "    id = db.Column(db.Integer, primary_key=True)\n",
    "    name = db.Column(db.String)\n",
    "    user_id = db.Column(db.Integer, db.ForeignKey('user.id'))\n",
    "    \n",
    "    def __repr__(self):\n",
    "        return '<Tag {} : {}>'.format(self.name, self.author)\n"
   ]
  },
  {
   "cell_type": "code",
   "execution_count": 5,
   "metadata": {
    "ExecuteTime": {
     "end_time": "2019-08-29T08:22:06.165022Z",
     "start_time": "2019-08-29T08:22:06.104357Z"
    }
   },
   "outputs": [],
   "source": [
    "db.drop_all()"
   ]
  },
  {
   "cell_type": "code",
   "execution_count": 6,
   "metadata": {
    "ExecuteTime": {
     "end_time": "2019-08-29T08:22:06.265717Z",
     "start_time": "2019-08-29T08:22:06.167898Z"
    }
   },
   "outputs": [],
   "source": [
    "db.create_all()"
   ]
  },
  {
   "cell_type": "markdown",
   "metadata": {},
   "source": [
    "## create users, pages and tags"
   ]
  },
  {
   "cell_type": "code",
   "execution_count": 7,
   "metadata": {
    "ExecuteTime": {
     "end_time": "2019-08-29T08:22:06.317631Z",
     "start_time": "2019-08-29T08:22:06.269737Z"
    },
    "scrolled": true
   },
   "outputs": [],
   "source": [
    "u = User(username='test', email='test@test.com')\n",
    "u2 = User(username='test2', email='test2@test.com')\n",
    "db.session.add(u)\n",
    "db.session.add(u2)\n",
    "db.session.commit()"
   ]
  },
  {
   "cell_type": "code",
   "execution_count": 8,
   "metadata": {
    "ExecuteTime": {
     "end_time": "2019-08-29T08:22:06.348322Z",
     "start_time": "2019-08-29T08:22:06.322675Z"
    }
   },
   "outputs": [
    {
     "data": {
      "text/plain": [
       "[<User test>, <User test2>]"
      ]
     },
     "execution_count": 8,
     "metadata": {},
     "output_type": "execute_result"
    }
   ],
   "source": [
    "User.query.all()"
   ]
  },
  {
   "cell_type": "code",
   "execution_count": 9,
   "metadata": {
    "ExecuteTime": {
     "end_time": "2019-08-29T08:22:06.393844Z",
     "start_time": "2019-08-29T08:22:06.354411Z"
    }
   },
   "outputs": [],
   "source": [
    "t1 = Tag(name='A', author=u)\n",
    "t2 = Tag(name='B', author=u)\n",
    "t3 = Tag(name='C', author=u)\n",
    "t4 = Tag(name='A', author=u2)\n",
    "t5 = Tag(name='B', author=u2)\n",
    "t6 = Tag(name='C', author=u2)\n",
    "db.session.add_all([t1,t2,t3,t4,t5,t6])\n",
    "db.session.commit()"
   ]
  },
  {
   "cell_type": "code",
   "execution_count": 10,
   "metadata": {
    "ExecuteTime": {
     "end_time": "2019-08-29T08:22:06.428165Z",
     "start_time": "2019-08-29T08:22:06.400480Z"
    }
   },
   "outputs": [],
   "source": [
    "p1 = Page(name='p1')\n",
    "p2 = Page(name='p2')\n",
    "db.session.add_all([p1,p2])\n",
    "db.session.commit()"
   ]
  },
  {
   "cell_type": "code",
   "execution_count": 11,
   "metadata": {
    "ExecuteTime": {
     "end_time": "2019-08-29T08:22:06.452453Z",
     "start_time": "2019-08-29T08:22:06.439276Z"
    }
   },
   "outputs": [
    {
     "data": {
      "text/plain": [
       "[<Tag A : <User test>>,\n",
       " <Tag B : <User test>>,\n",
       " <Tag C : <User test>>,\n",
       " <Tag A : <User test2>>,\n",
       " <Tag B : <User test2>>,\n",
       " <Tag C : <User test2>>]"
      ]
     },
     "execution_count": 11,
     "metadata": {},
     "output_type": "execute_result"
    }
   ],
   "source": [
    "Tag.query.all()"
   ]
  },
  {
   "cell_type": "code",
   "execution_count": 12,
   "metadata": {
    "ExecuteTime": {
     "end_time": "2019-08-29T08:22:06.468944Z",
     "start_time": "2019-08-29T08:22:06.457715Z"
    }
   },
   "outputs": [
    {
     "data": {
      "text/plain": [
       "[<Page p1 Tag []>, <Page p2 Tag []>]"
      ]
     },
     "execution_count": 12,
     "metadata": {},
     "output_type": "execute_result"
    }
   ],
   "source": [
    "Page.query.all()"
   ]
  },
  {
   "cell_type": "markdown",
   "metadata": {},
   "source": [
    "## add tag on pages"
   ]
  },
  {
   "cell_type": "code",
   "execution_count": 13,
   "metadata": {
    "ExecuteTime": {
     "end_time": "2019-08-29T08:22:06.484240Z",
     "start_time": "2019-08-29T08:22:06.472848Z"
    }
   },
   "outputs": [],
   "source": [
    "p1.tags.append(t1)\n",
    "p1.tags.append(t2)\n",
    "p2.tags.append(t2)\n",
    "p2.tags.append(t4)"
   ]
  },
  {
   "cell_type": "code",
   "execution_count": 14,
   "metadata": {
    "ExecuteTime": {
     "end_time": "2019-08-29T08:22:06.519258Z",
     "start_time": "2019-08-29T08:22:06.490157Z"
    }
   },
   "outputs": [
    {
     "data": {
      "text/plain": [
       "[<Page p1 Tag [<Tag A : <User test>>, <Tag B : <User test>>]>,\n",
       " <Page p2 Tag [<Tag B : <User test>>, <Tag A : <User test2>>]>]"
      ]
     },
     "execution_count": 14,
     "metadata": {},
     "output_type": "execute_result"
    }
   ],
   "source": [
    "Page.query.all()"
   ]
  },
  {
   "cell_type": "markdown",
   "metadata": {},
   "source": [
    "## query test"
   ]
  },
  {
   "cell_type": "code",
   "execution_count": 15,
   "metadata": {
    "ExecuteTime": {
     "end_time": "2019-08-29T08:22:18.338459Z",
     "start_time": "2019-08-29T08:22:18.317667Z"
    },
    "scrolled": true
   },
   "outputs": [
    {
     "data": {
      "text/plain": [
       "[<Page p1 Tag [<Tag A : <User test>>, <Tag B : <User test>>]>,\n",
       " <Page p2 Tag [<Tag B : <User test>>, <Tag A : <User test2>>]>]"
      ]
     },
     "execution_count": 15,
     "metadata": {},
     "output_type": "execute_result"
    }
   ],
   "source": [
    "Page.query.join(Page.tags).filter(Tag.name==\"A\").all()"
   ]
  },
  {
   "cell_type": "code",
   "execution_count": 16,
   "metadata": {
    "ExecuteTime": {
     "end_time": "2019-08-29T08:22:18.363094Z",
     "start_time": "2019-08-29T08:22:18.342551Z"
    }
   },
   "outputs": [
    {
     "data": {
      "text/plain": [
       "[(1, 1), (4, 2), (2, 1), (2, 2)]"
      ]
     },
     "execution_count": 16,
     "metadata": {},
     "output_type": "execute_result"
    }
   ],
   "source": [
    "db.session.query(tags).all()"
   ]
  },
  {
   "cell_type": "markdown",
   "metadata": {},
   "source": [
    "### select un-tagged page under one user"
   ]
  },
  {
   "cell_type": "code",
   "execution_count": 200,
   "metadata": {
    "ExecuteTime": {
     "end_time": "2019-08-29T02:43:18.647224Z",
     "start_time": "2019-08-29T02:43:18.628619Z"
    }
   },
   "outputs": [
    {
     "data": {
      "text/plain": [
       "[<Page p1 Tag [<Tag A -> <User test>>, <Tag B -> <User test>>]>,\n",
       " <Page p2 Tag [<Tag B -> <User test>>, <Tag A -> <User test2>>]>]"
      ]
     },
     "execution_count": 200,
     "metadata": {},
     "output_type": "execute_result"
    }
   ],
   "source": [
    "Page.query.filter(Page.tags.contains(t2)).all()"
   ]
  },
  {
   "cell_type": "code",
   "execution_count": 198,
   "metadata": {
    "ExecuteTime": {
     "end_time": "2019-08-29T02:42:48.371760Z",
     "start_time": "2019-08-29T02:42:48.346194Z"
    }
   },
   "outputs": [
    {
     "data": {
      "text/plain": [
       "[<Page p1 Tag [<Tag A -> <User test>>, <Tag B -> <User test>>]>]"
      ]
     },
     "execution_count": 198,
     "metadata": {},
     "output_type": "execute_result"
    }
   ],
   "source": [
    "s1 = Tag.query.filter(Tag.author==u2)\n",
    "fr=[~Page.tags.contains(i) for i in s1]\n",
    "Page.query.filter(*fr).all()"
   ]
  },
  {
   "cell_type": "markdown",
   "metadata": {},
   "source": [
    "### select tag A pages under user 1"
   ]
  },
  {
   "cell_type": "markdown",
   "metadata": {},
   "source": [
    "### select pages tagged repeatly"
   ]
  },
  {
   "cell_type": "code",
   "execution_count": 35,
   "metadata": {
    "ExecuteTime": {
     "end_time": "2019-08-28T06:21:37.975694Z",
     "start_time": "2019-08-28T06:21:37.964097Z"
    },
    "scrolled": true
   },
   "outputs": [
    {
     "data": {
      "text/plain": [
       "[<Page p1 Tag [<Tag A>, <Tag B>]>, <Page p2 Tag [<Tag B>]>]"
      ]
     },
     "execution_count": 35,
     "metadata": {},
     "output_type": "execute_result"
    }
   ],
   "source": [
    "Page.query.filter(Tag.name==\"A\").all()"
   ]
  },
  {
   "cell_type": "code",
   "execution_count": 34,
   "metadata": {
    "ExecuteTime": {
     "end_time": "2019-08-28T06:19:16.671298Z",
     "start_time": "2019-08-28T06:19:16.649956Z"
    },
    "scrolled": true
   },
   "outputs": [
    {
     "data": {
      "text/plain": [
       "[<Page p1 Tag [<Tag A>, <Tag B>]>, <Page p2 Tag [<Tag B>]>]"
      ]
     },
     "execution_count": 34,
     "metadata": {},
     "output_type": "execute_result"
    }
   ],
   "source": [
    "Page.query.join(Page.tags).filter(Tag.user_id==1).filter(Tag.name!=\"C\").filter(Tag.name!='A').all()"
   ]
  },
  {
   "cell_type": "code",
   "execution_count": 43,
   "metadata": {
    "ExecuteTime": {
     "end_time": "2019-08-28T06:32:00.657155Z",
     "start_time": "2019-08-28T06:32:00.638798Z"
    }
   },
   "outputs": [],
   "source": [
    "stmt = Page.query.join(Page.tags).filter(Tag.user_id==1).subquery()"
   ]
  },
  {
   "cell_type": "code",
   "execution_count": 70,
   "metadata": {
    "ExecuteTime": {
     "end_time": "2019-08-28T06:41:47.100725Z",
     "start_time": "2019-08-28T06:41:47.084537Z"
    }
   },
   "outputs": [
    {
     "data": {
      "text/plain": [
       "[<Page p1 Tag [<Tag A>, <Tag B>]>, <Page p2 Tag [<Tag B>]>]"
      ]
     },
     "execution_count": 70,
     "metadata": {},
     "output_type": "execute_result"
    }
   ],
   "source": [
    "Page.query.join(Page.tags, User).filter(Tag.name!=\"A\").all()"
   ]
  },
  {
   "cell_type": "code",
   "execution_count": 95,
   "metadata": {
    "ExecuteTime": {
     "end_time": "2019-08-28T08:17:43.077492Z",
     "start_time": "2019-08-28T08:17:43.055939Z"
    }
   },
   "outputs": [
    {
     "data": {
      "text/plain": [
       "[<Tag A>, <Tag B>, <Tag C>]"
      ]
     },
     "execution_count": 95,
     "metadata": {},
     "output_type": "execute_result"
    }
   ],
   "source": [
    "u.tags.filter(Page.tags.any(name='B')).all()"
   ]
  },
  {
   "cell_type": "code",
   "execution_count": null,
   "metadata": {},
   "outputs": [],
   "source": []
  },
  {
   "cell_type": "code",
   "execution_count": null,
   "metadata": {},
   "outputs": [],
   "source": []
  },
  {
   "cell_type": "code",
   "execution_count": 122,
   "metadata": {
    "ExecuteTime": {
     "end_time": "2019-08-28T03:15:08.480499Z",
     "start_time": "2019-08-28T03:15:08.466499Z"
    }
   },
   "outputs": [
    {
     "name": "stdout",
     "output_type": "stream",
     "text": [
      "(1, 'p1')\n"
     ]
    }
   ],
   "source": [
    "ss = db.session.execute(db.select([Page]))\n",
    "for i in ss:\n",
    "    print(i)"
   ]
  },
  {
   "cell_type": "code",
   "execution_count": 124,
   "metadata": {
    "ExecuteTime": {
     "end_time": "2019-08-28T05:39:19.328089Z",
     "start_time": "2019-08-28T05:39:19.306616Z"
    },
    "scrolled": true
   },
   "outputs": [
    {
     "data": {
      "text/plain": [
       "[<Page p1 Tag [<Tag A>]>]"
      ]
     },
     "execution_count": 124,
     "metadata": {},
     "output_type": "execute_result"
    }
   ],
   "source": [
    "Page.query.filter(Page.tags.contains(t1)).all()"
   ]
  },
  {
   "cell_type": "code",
   "execution_count": 147,
   "metadata": {
    "ExecuteTime": {
     "end_time": "2019-08-28T06:06:39.711057Z",
     "start_time": "2019-08-28T06:06:39.701604Z"
    },
    "scrolled": true
   },
   "outputs": [
    {
     "data": {
      "text/plain": [
       "[<Page p1 Tag [<Tag A>]>]"
      ]
     },
     "execution_count": 147,
     "metadata": {},
     "output_type": "execute_result"
    }
   ],
   "source": [
    "Page.query.join(Page.tags).filter(Tag.name!='B').all()"
   ]
  },
  {
   "cell_type": "code",
   "execution_count": 148,
   "metadata": {
    "ExecuteTime": {
     "end_time": "2019-08-28T06:06:56.731524Z",
     "start_time": "2019-08-28T06:06:56.707064Z"
    },
    "scrolled": true
   },
   "outputs": [
    {
     "data": {
      "text/plain": [
       "[<Page p1 Tag [<Tag A>]>]"
      ]
     },
     "execution_count": 148,
     "metadata": {},
     "output_type": "execute_result"
    }
   ],
   "source": [
    "Page.query.join(Tag.pages).filter(Tag.name!='B').all()"
   ]
  },
  {
   "cell_type": "code",
   "execution_count": null,
   "metadata": {},
   "outputs": [],
   "source": []
  },
  {
   "cell_type": "code",
   "execution_count": 89,
   "metadata": {
    "ExecuteTime": {
     "end_time": "2019-08-28T02:52:18.154876Z",
     "start_time": "2019-08-28T02:52:18.139681Z"
    }
   },
   "outputs": [
    {
     "data": {
      "text/plain": [
       "<sqlalchemy.orm.dynamic.AppenderBaseQuery at 0x7ff8f87eb898>"
      ]
     },
     "execution_count": 89,
     "metadata": {},
     "output_type": "execute_result"
    }
   ],
   "source": [
    "t1.pages"
   ]
  },
  {
   "cell_type": "code",
   "execution_count": 22,
   "metadata": {
    "ExecuteTime": {
     "end_time": "2019-08-27T08:21:58.813848Z",
     "start_time": "2019-08-27T08:21:58.802859Z"
    }
   },
   "outputs": [],
   "source": [
    "t1.pages.append(p1)"
   ]
  },
  {
   "cell_type": "code",
   "execution_count": 53,
   "metadata": {
    "ExecuteTime": {
     "end_time": "2019-08-27T09:26:13.221800Z",
     "start_time": "2019-08-27T09:26:13.211980Z"
    }
   },
   "outputs": [],
   "source": [
    "u.id"
   ]
  },
  {
   "cell_type": "code",
   "execution_count": 38,
   "metadata": {
    "ExecuteTime": {
     "end_time": "2019-08-27T09:23:18.324898Z",
     "start_time": "2019-08-27T09:23:18.304102Z"
    }
   },
   "outputs": [
    {
     "data": {
      "text/plain": [
       "[<Tag A>]"
      ]
     },
     "execution_count": 38,
     "metadata": {},
     "output_type": "execute_result"
    }
   ],
   "source": [
    "p1.tags"
   ]
  },
  {
   "cell_type": "code",
   "execution_count": 39,
   "metadata": {
    "ExecuteTime": {
     "end_time": "2019-08-27T09:23:34.653384Z",
     "start_time": "2019-08-27T09:23:34.638523Z"
    }
   },
   "outputs": [
    {
     "ename": "SyntaxError",
     "evalue": "keyword can't be an expression (<ipython-input-39-45948ed35ab8>, line 1)",
     "output_type": "error",
     "traceback": [
      "\u001b[0;36m  File \u001b[0;32m\"<ipython-input-39-45948ed35ab8>\"\u001b[0;36m, line \u001b[0;32m1\u001b[0m\n\u001b[0;31m    p1.query.filter(tags.id=t1.id)\u001b[0m\n\u001b[0m                   ^\u001b[0m\n\u001b[0;31mSyntaxError\u001b[0m\u001b[0;31m:\u001b[0m keyword can't be an expression\n"
     ]
    }
   ],
   "source": [
    "p1.query.filter(tags.id=t1.id)"
   ]
  },
  {
   "cell_type": "markdown",
   "metadata": {},
   "source": [
    "# new test"
   ]
  },
  {
   "cell_type": "code",
   "execution_count": 1,
   "metadata": {
    "ExecuteTime": {
     "end_time": "2019-08-29T03:47:25.997250Z",
     "start_time": "2019-08-29T03:47:25.647730Z"
    }
   },
   "outputs": [],
   "source": [
    "from flask import Flask\n",
    "from config import Config\n",
    "from flask_sqlalchemy import SQLAlchemy\n",
    "from flask_migrate import Migrate\n",
    "from datetime import datetime\n",
    "import os\n",
    "\n",
    "basedir = \"/home/mtx/git/ranklens/app/test\"\n",
    "\n",
    "\n",
    "class Config(object):\n",
    "    SECRET_KEY = os.environ.get('SECRET_KEY') or 'you-will-never-guess'\n",
    "    DEBUG = True\n",
    "    SQLALCHEMY_DATABASE_URI = os.environ.get('DATABASE_URL') or \\\n",
    "        'sqlite:///' + os.path.join(basedir, 'app_1.db')\n",
    "    SQLALCHEMY_TRACK_MODIFICATIONS = True\n",
    "\n",
    "app = Flask(__name__)\n",
    "app.config.from_object(Config)\n",
    "\n",
    "db = SQLAlchemy(app)\n",
    "migrate = Migrate(app, db)"
   ]
  },
  {
   "cell_type": "code",
   "execution_count": 2,
   "metadata": {
    "ExecuteTime": {
     "end_time": "2019-08-29T03:47:26.024625Z",
     "start_time": "2019-08-29T03:47:26.007111Z"
    }
   },
   "outputs": [],
   "source": [
    "class User(db.Model):\n",
    "    id = db.Column(db.Integer, primary_key=True)\n",
    "    username = db.Column(db.String(64), index=True, unique=True)\n",
    "    email = db.Column(db.String(120), index=True, unique=True)\n",
    "    posts = db.relationship(\"Posts\", backref='author', lazy='dynamic')\n",
    "\n",
    "    \n",
    "    def __repr__(self):\n",
    "        return '<User {}>'.format(self.username)\n"
   ]
  },
  {
   "cell_type": "code",
   "execution_count": 3,
   "metadata": {
    "ExecuteTime": {
     "end_time": "2019-08-29T03:47:26.040441Z",
     "start_time": "2019-08-29T03:47:26.028741Z"
    }
   },
   "outputs": [],
   "source": [
    "class Image(db.Model):\n",
    "    id = db.Column(db.Integer, primary_key=True)\n",
    "    name = db.Column(db.String)\n",
    "    labels = db.relationship(\"Label\", secondary=\"posts\")\n",
    "#    users = db.relationship(\"User\", secondary=\"posts\")\n",
    "\n",
    "    def __repr__(self):\n",
    "        return '<Page {} Label {}, users {}>'.format(self.name, self.labels, 1)"
   ]
  },
  {
   "cell_type": "code",
   "execution_count": 4,
   "metadata": {
    "ExecuteTime": {
     "end_time": "2019-08-29T03:47:26.062073Z",
     "start_time": "2019-08-29T03:47:26.048430Z"
    }
   },
   "outputs": [],
   "source": [
    "class Label(db.Model):\n",
    "    id = db.Column(db.Integer, primary_key=True)\n",
    "    name = db.Column(db.String)\n",
    "    images = db.relationship(\"Image\", secondary=\"posts\")\n",
    "    \n",
    "    def __repr__(self):\n",
    "        return '<Tag {}>'.format(self.name)\n",
    "        #return '<Tag {} : {}>'.format(self.name, self.author)"
   ]
  },
  {
   "cell_type": "code",
   "execution_count": 5,
   "metadata": {
    "ExecuteTime": {
     "end_time": "2019-08-29T03:47:26.095898Z",
     "start_time": "2019-08-29T03:47:26.065263Z"
    },
    "scrolled": true
   },
   "outputs": [],
   "source": [
    "class Posts(db.Model):\n",
    "    id = db.Column(db.Integer, primary_key=True)\n",
    "    user_id = db.Column(db.Integer, db.ForeignKey('user.id'))\n",
    "    label_id = db.Column(db.Integer, db.ForeignKey('label.id'))\n",
    "    image_id = db.Column(db.Integer, db.ForeignKey('image.id'))\n",
    "\n",
    "    # ... any other fields\n",
    "\n",
    "    dttm = db.Column(db.DateTime, nullable=False, default=datetime.utcnow)\n",
    "\n",
    "    label = db.relationship(\"Label\", backref=db.backref(\"posts\"))\n",
    "#    author = db.relationship(Label, backref=db.backref(\"posts\", cascade=\"all, delete-orphan\"))\n",
    "    image = db.relationship(\"Image\", backref=db.backref(\"posts\"))\n",
    "    \n",
    "    def __repr__(self):\n",
    "        return '<Image {}, Label {}, author {}>'.format(self.image, self.label, self.author)"
   ]
  },
  {
   "cell_type": "code",
   "execution_count": 6,
   "metadata": {
    "ExecuteTime": {
     "end_time": "2019-08-29T03:47:28.831449Z",
     "start_time": "2019-08-29T03:47:28.779949Z"
    }
   },
   "outputs": [],
   "source": [
    "db.drop_all()"
   ]
  },
  {
   "cell_type": "code",
   "execution_count": 7,
   "metadata": {
    "ExecuteTime": {
     "end_time": "2019-08-29T03:47:28.897456Z",
     "start_time": "2019-08-29T03:47:28.835878Z"
    },
    "scrolled": true
   },
   "outputs": [],
   "source": [
    "db.create_all()"
   ]
  },
  {
   "cell_type": "markdown",
   "metadata": {},
   "source": [
    "## create users, pages and tags"
   ]
  },
  {
   "cell_type": "code",
   "execution_count": 8,
   "metadata": {
    "ExecuteTime": {
     "end_time": "2019-08-29T03:47:30.142142Z",
     "start_time": "2019-08-29T03:47:30.103576Z"
    },
    "scrolled": true
   },
   "outputs": [],
   "source": [
    "u = User(username='test', email='test@test.com')\n",
    "u2 = User(username='test2', email='test2@test.com')\n",
    "db.session.add(u)\n",
    "db.session.add(u2)\n",
    "db.session.commit()"
   ]
  },
  {
   "cell_type": "code",
   "execution_count": 9,
   "metadata": {
    "ExecuteTime": {
     "end_time": "2019-08-29T03:47:31.258341Z",
     "start_time": "2019-08-29T03:47:31.245843Z"
    }
   },
   "outputs": [
    {
     "data": {
      "text/plain": [
       "[<User test>, <User test2>]"
      ]
     },
     "execution_count": 9,
     "metadata": {},
     "output_type": "execute_result"
    }
   ],
   "source": [
    "User.query.all()"
   ]
  },
  {
   "cell_type": "code",
   "execution_count": 10,
   "metadata": {
    "ExecuteTime": {
     "end_time": "2019-08-29T03:47:32.149962Z",
     "start_time": "2019-08-29T03:47:32.122716Z"
    }
   },
   "outputs": [],
   "source": [
    "l1 = Label(name='A')\n",
    "l2 = Label(name='B')\n",
    "l3 = Label(name='C')\n",
    "db.session.add_all([l1,l2,l3])\n",
    "db.session.commit()"
   ]
  },
  {
   "cell_type": "code",
   "execution_count": 11,
   "metadata": {
    "ExecuteTime": {
     "end_time": "2019-08-29T03:47:32.954060Z",
     "start_time": "2019-08-29T03:47:32.931480Z"
    }
   },
   "outputs": [],
   "source": [
    "im1 = Image(name='p1')\n",
    "im2 = Image(name='p2')\n",
    "db.session.add_all([im1,im2])\n",
    "db.session.commit()"
   ]
  },
  {
   "cell_type": "code",
   "execution_count": 12,
   "metadata": {
    "ExecuteTime": {
     "end_time": "2019-08-29T03:47:33.694934Z",
     "start_time": "2019-08-29T03:47:33.687299Z"
    }
   },
   "outputs": [
    {
     "data": {
      "text/plain": [
       "[<Tag A>, <Tag B>, <Tag C>]"
      ]
     },
     "execution_count": 12,
     "metadata": {},
     "output_type": "execute_result"
    }
   ],
   "source": [
    "Label.query.all()"
   ]
  },
  {
   "cell_type": "code",
   "execution_count": 13,
   "metadata": {
    "ExecuteTime": {
     "end_time": "2019-08-29T03:47:34.556877Z",
     "start_time": "2019-08-29T03:47:34.551567Z"
    }
   },
   "outputs": [
    {
     "data": {
      "text/plain": [
       "[<Page p1 Label [], users 1>, <Page p2 Label [], users 1>]"
      ]
     },
     "execution_count": 13,
     "metadata": {},
     "output_type": "execute_result"
    }
   ],
   "source": [
    "Image.query.all()"
   ]
  },
  {
   "cell_type": "markdown",
   "metadata": {},
   "source": [
    "## add tag on pages"
   ]
  },
  {
   "cell_type": "code",
   "execution_count": 19,
   "metadata": {
    "ExecuteTime": {
     "end_time": "2019-08-29T03:49:15.813413Z",
     "start_time": "2019-08-29T03:49:15.792526Z"
    }
   },
   "outputs": [
    {
     "data": {
      "text/plain": [
       "<Image <Page p2 Label [], users 1>, Label <Tag A>, author <User test2>>"
      ]
     },
     "execution_count": 19,
     "metadata": {},
     "output_type": "execute_result"
    }
   ],
   "source": [
    "Posts(image_id=im1.id,label_id=l1.id,author=u)\n",
    "Posts(image=im2,label=l2,author=u)\n",
    "Posts(image=im2,label=l1,author=u2)"
   ]
  },
  {
   "cell_type": "code",
   "execution_count": 20,
   "metadata": {
    "ExecuteTime": {
     "end_time": "2019-08-29T03:49:16.681820Z",
     "start_time": "2019-08-29T03:49:16.668531Z"
    }
   },
   "outputs": [
    {
     "data": {
      "text/plain": [
       "[<Image <Page p1 Label [], users 1>, Label <Tag A>, author <User test>>,\n",
       " <Image <Page p2 Label [], users 1>, Label <Tag B>, author <User test>>,\n",
       " <Image <Page p2 Label [], users 1>, Label <Tag A>, author <User test2>>,\n",
       " <Image <Page p1 Label [], users 1>, Label <Tag A>, author <User test>>,\n",
       " <Image <Page p2 Label [], users 1>, Label <Tag B>, author <User test>>,\n",
       " <Image <Page p2 Label [], users 1>, Label <Tag A>, author <User test2>>]"
      ]
     },
     "execution_count": 20,
     "metadata": {},
     "output_type": "execute_result"
    }
   ],
   "source": [
    "Posts.query.all()"
   ]
  },
  {
   "cell_type": "code",
   "execution_count": 21,
   "metadata": {
    "ExecuteTime": {
     "end_time": "2019-08-29T03:49:20.600969Z",
     "start_time": "2019-08-29T03:49:20.586323Z"
    }
   },
   "outputs": [
    {
     "data": {
      "text/plain": [
       "[<Page p1 Label [], users 1>, <Page p2 Label [], users 1>]"
      ]
     },
     "execution_count": 21,
     "metadata": {},
     "output_type": "execute_result"
    }
   ],
   "source": [
    "Image.query.all()"
   ]
  },
  {
   "cell_type": "code",
   "execution_count": 22,
   "metadata": {
    "ExecuteTime": {
     "end_time": "2019-08-29T03:49:21.783533Z",
     "start_time": "2019-08-29T03:49:21.771189Z"
    }
   },
   "outputs": [
    {
     "data": {
      "text/plain": [
       "[]"
      ]
     },
     "execution_count": 22,
     "metadata": {},
     "output_type": "execute_result"
    }
   ],
   "source": [
    "im1.labels"
   ]
  },
  {
   "cell_type": "code",
   "execution_count": 23,
   "metadata": {
    "ExecuteTime": {
     "end_time": "2019-08-29T03:49:22.862094Z",
     "start_time": "2019-08-29T03:49:22.853109Z"
    }
   },
   "outputs": [
    {
     "data": {
      "text/plain": [
       "[<Page p2 Label [], users 1>]"
      ]
     },
     "execution_count": 23,
     "metadata": {},
     "output_type": "execute_result"
    }
   ],
   "source": [
    "l2.images"
   ]
  },
  {
   "cell_type": "code",
   "execution_count": null,
   "metadata": {},
   "outputs": [],
   "source": []
  },
  {
   "cell_type": "code",
   "execution_count": 18,
   "metadata": {
    "ExecuteTime": {
     "end_time": "2019-08-29T03:14:19.773085Z",
     "start_time": "2019-08-29T03:14:19.758559Z"
    }
   },
   "outputs": [],
   "source": [
    "p1.labels.append(t1)\n",
    "p1.labels.append(t2)\n",
    "p2.labels.append(t2)\n",
    "p2.labels.append(t3)"
   ]
  },
  {
   "cell_type": "code",
   "execution_count": 19,
   "metadata": {
    "ExecuteTime": {
     "end_time": "2019-08-29T03:14:25.536547Z",
     "start_time": "2019-08-29T03:14:25.513723Z"
    }
   },
   "outputs": [
    {
     "data": {
      "text/plain": [
       "[<Page p1 Label [<Tag A>, <Tag B>]>, <Page p2 Label [<Tag B>, <Tag C>]>]"
      ]
     },
     "execution_count": 19,
     "metadata": {},
     "output_type": "execute_result"
    }
   ],
   "source": [
    "Image.query.all()"
   ]
  },
  {
   "cell_type": "code",
   "execution_count": null,
   "metadata": {},
   "outputs": [],
   "source": []
  },
  {
   "cell_type": "code",
   "execution_count": 18,
   "metadata": {
    "ExecuteTime": {
     "end_time": "2019-08-29T03:09:32.705487Z",
     "start_time": "2019-08-29T03:09:32.682662Z"
    }
   },
   "outputs": [
    {
     "data": {
      "text/plain": [
       "[]"
      ]
     },
     "execution_count": 18,
     "metadata": {},
     "output_type": "execute_result"
    }
   ],
   "source": [
    "p1.image_labels"
   ]
  },
  {
   "cell_type": "markdown",
   "metadata": {},
   "source": [
    "# test3 "
   ]
  },
  {
   "cell_type": "code",
   "execution_count": 24,
   "metadata": {
    "ExecuteTime": {
     "end_time": "2019-08-29T04:30:16.902994Z",
     "start_time": "2019-08-29T04:30:16.884758Z"
    }
   },
   "outputs": [],
   "source": [
    "from flask import Flask\n",
    "from config import Config\n",
    "from flask_sqlalchemy import SQLAlchemy\n",
    "from flask_migrate import Migrate\n",
    "from datetime import datetime\n",
    "import os\n",
    "\n",
    "basedir = \"/home/mtx/git/ranklens/app/test\"\n",
    "\n",
    "\n",
    "class Config(object):\n",
    "    SECRET_KEY = os.environ.get('SECRET_KEY') or 'you-will-never-guess'\n",
    "    DEBUG = True\n",
    "    SQLALCHEMY_DATABASE_URI = os.environ.get('DATABASE_URL') or \\\n",
    "        'sqlite:///' + os.path.join(basedir, 'app_2.db')\n",
    "    SQLALCHEMY_TRACK_MODIFICATIONS = True\n",
    "\n",
    "app = Flask(__name__)\n",
    "app.config.from_object(Config)\n",
    "\n",
    "db = SQLAlchemy(app)\n",
    "migrate = Migrate(app, db)"
   ]
  },
  {
   "cell_type": "code",
   "execution_count": 27,
   "metadata": {
    "ExecuteTime": {
     "end_time": "2019-08-29T04:32:42.309945Z",
     "start_time": "2019-08-29T04:32:42.303063Z"
    }
   },
   "outputs": [],
   "source": [
    "from sqlalchemy import Integer, ForeignKey, String, Column\n",
    "from sqlalchemy.ext.declarative import declarative_base\n",
    "from sqlalchemy.orm import relationship\n",
    "Base = declarative_base()"
   ]
  },
  {
   "cell_type": "code",
   "execution_count": 28,
   "metadata": {
    "ExecuteTime": {
     "end_time": "2019-08-29T04:32:43.180090Z",
     "start_time": "2019-08-29T04:32:43.149148Z"
    }
   },
   "outputs": [
    {
     "ename": "NameError",
     "evalue": "name 'PrimaryKeyConstraint' is not defined",
     "output_type": "error",
     "traceback": [
      "\u001b[0;31m---------------------------------------------------------------------------\u001b[0m",
      "\u001b[0;31mNameError\u001b[0m                                 Traceback (most recent call last)",
      "\u001b[0;32m<ipython-input-28-2343be3aba83>\u001b[0m in \u001b[0;36m<module>\u001b[0;34m\u001b[0m\n\u001b[1;32m      5\u001b[0m \u001b[0;34m\u001b[0m\u001b[0m\n\u001b[1;32m      6\u001b[0m \u001b[0;34m\u001b[0m\u001b[0m\n\u001b[0;32m----> 7\u001b[0;31m \u001b[0;32mclass\u001b[0m \u001b[0mArticle\u001b[0m\u001b[0;34m(\u001b[0m\u001b[0mBase\u001b[0m\u001b[0;34m)\u001b[0m\u001b[0;34m:\u001b[0m\u001b[0;34m\u001b[0m\u001b[0;34m\u001b[0m\u001b[0m\n\u001b[0m\u001b[1;32m      8\u001b[0m     \u001b[0m__tablename__\u001b[0m \u001b[0;34m=\u001b[0m \u001b[0;34m'article'\u001b[0m\u001b[0;34m\u001b[0m\u001b[0;34m\u001b[0m\u001b[0m\n\u001b[1;32m      9\u001b[0m \u001b[0;34m\u001b[0m\u001b[0m\n",
      "\u001b[0;32m<ipython-input-28-2343be3aba83>\u001b[0m in \u001b[0;36mArticle\u001b[0;34m()\u001b[0m\n\u001b[1;32m     16\u001b[0m \u001b[0;34m\u001b[0m\u001b[0m\n\u001b[1;32m     17\u001b[0m     __table_args__ = (\n\u001b[0;32m---> 18\u001b[0;31m         \u001b[0mPrimaryKeyConstraint\u001b[0m\u001b[0;34m(\u001b[0m\u001b[0;34m'article_id'\u001b[0m\u001b[0;34m,\u001b[0m \u001b[0;34m'magazine_id'\u001b[0m\u001b[0;34m)\u001b[0m\u001b[0;34m,\u001b[0m\u001b[0;34m\u001b[0m\u001b[0;34m\u001b[0m\u001b[0m\n\u001b[0m\u001b[1;32m     19\u001b[0m         ForeignKeyConstraint(\n\u001b[1;32m     20\u001b[0m             \u001b[0;34m[\u001b[0m\u001b[0;34m'writer_id'\u001b[0m\u001b[0;34m,\u001b[0m \u001b[0;34m'magazine_id'\u001b[0m\u001b[0;34m]\u001b[0m\u001b[0;34m,\u001b[0m\u001b[0;34m\u001b[0m\u001b[0;34m\u001b[0m\u001b[0m\n",
      "\u001b[0;31mNameError\u001b[0m: name 'PrimaryKeyConstraint' is not defined"
     ]
    }
   ],
   "source": [
    "class Magazine(Base):\n",
    "    __tablename__ = 'magazine'\n",
    "\n",
    "    id = Column(Integer, primary_key=True)\n",
    "\n",
    "\n",
    "class Article(Base):\n",
    "    __tablename__ = 'article'\n",
    "\n",
    "    article_id = Column(Integer)\n",
    "    magazine_id = Column(ForeignKey('magazine.id'))\n",
    "    writer_id = Column()\n",
    "\n",
    "    magazine = relationship(\"Magazine\")\n",
    "    writer = relationship(\"Writer\")\n",
    "\n",
    "    __table_args__ = (\n",
    "        PrimaryKeyConstraint('article_id', 'magazine_id'),\n",
    "        ForeignKeyConstraint(\n",
    "            ['writer_id', 'magazine_id'],\n",
    "            ['writer.id', 'writer.magazine_id']\n",
    "        ),\n",
    "    )\n",
    "\n",
    "\n",
    "class Writer(Base):\n",
    "    __tablename__ = 'writer'\n",
    "\n",
    "    id = Column(Integer, primary_key=True)\n",
    "    magazine_id = Column(ForeignKey('magazine.id'), primary_key=True)\n",
    "    magazine = relationship(\"Magazine\")"
   ]
  },
  {
   "cell_type": "code",
   "execution_count": null,
   "metadata": {},
   "outputs": [],
   "source": []
  }
 ],
 "metadata": {
  "hide_input": false,
  "kernelspec": {
   "display_name": "work",
   "language": "python",
   "name": "work"
  },
  "language_info": {
   "codemirror_mode": {
    "name": "ipython",
    "version": 3
   },
   "file_extension": ".py",
   "mimetype": "text/x-python",
   "name": "python",
   "nbconvert_exporter": "python",
   "pygments_lexer": "ipython3",
   "version": "3.7.3"
  },
  "latex_envs": {
   "LaTeX_envs_menu_present": true,
   "autoclose": false,
   "autocomplete": true,
   "bibliofile": "biblio.bib",
   "cite_by": "apalike",
   "current_citInitial": 1,
   "eqLabelWithNumbers": true,
   "eqNumInitial": 1,
   "hotkeys": {
    "equation": "Ctrl-E",
    "itemize": "Ctrl-I"
   },
   "labels_anchors": false,
   "latex_user_defs": false,
   "report_style_numbering": false,
   "user_envs_cfg": false
  },
  "toc": {
   "base_numbering": 1,
   "nav_menu": {},
   "number_sections": true,
   "sideBar": true,
   "skip_h1_title": false,
   "title_cell": "Table of Contents",
   "title_sidebar": "Contents",
   "toc_cell": false,
   "toc_position": {},
   "toc_section_display": true,
   "toc_window_display": false
  },
  "varInspector": {
   "cols": {
    "lenName": 16,
    "lenType": 16,
    "lenVar": 40
   },
   "kernels_config": {
    "python": {
     "delete_cmd_postfix": "",
     "delete_cmd_prefix": "del ",
     "library": "var_list.py",
     "varRefreshCmd": "print(var_dic_list())"
    },
    "r": {
     "delete_cmd_postfix": ") ",
     "delete_cmd_prefix": "rm(",
     "library": "var_list.r",
     "varRefreshCmd": "cat(var_dic_list()) "
    }
   },
   "types_to_exclude": [
    "module",
    "function",
    "builtin_function_or_method",
    "instance",
    "_Feature"
   ],
   "window_display": false
  }
 },
 "nbformat": 4,
 "nbformat_minor": 2
}
