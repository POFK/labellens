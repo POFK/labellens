{
 "cells": [
  {
   "cell_type": "code",
   "execution_count": 1,
   "metadata": {
    "ExecuteTime": {
     "end_time": "2019-08-30T07:07:30.041060Z",
     "start_time": "2019-08-30T07:07:29.709085Z"
    }
   },
   "outputs": [],
   "source": [
    "from flask import Flask\n",
    "from config import Config\n",
    "from flask_sqlalchemy import SQLAlchemy, BaseQuery\n",
    "from flask_sqlalchemy import orm\n",
    "from flask_migrate import Migrate\n",
    "import os\n",
    "from datetime import datetime\n",
    "\n",
    "attribute_mapped_collection = orm.collections.attribute_mapped_collection\n",
    "\n",
    "basedir = \"/home/mtx/git/ranklens/app/test\"\n",
    "\n",
    "\n",
    "class Config(object):\n",
    "    SECRET_KEY = os.environ.get('SECRET_KEY') or 'you-will-never-guess'\n",
    "    DEBUG = True\n",
    "    SQLALCHEMY_DATABASE_URI = os.environ.get('DATABASE_URL') or \\\n",
    "        'sqlite:///' + os.path.join(basedir, 'test_many2many.db')\n",
    "    SQLALCHEMY_TRACK_MODIFICATIONS = True\n",
    "\n",
    "app = Flask(__name__)\n",
    "app.config.from_object(Config)\n",
    "\n",
    "db = SQLAlchemy(app)\n",
    "migrate = Migrate(app, db)"
   ]
  },
  {
   "cell_type": "code",
   "execution_count": 2,
   "metadata": {
    "ExecuteTime": {
     "end_time": "2019-08-30T07:07:30.051761Z",
     "start_time": "2019-08-30T07:07:30.042404Z"
    }
   },
   "outputs": [],
   "source": [
    "class User(db.Model):\n",
    "    id = db.Column(db.Integer, primary_key=True)\n",
    "    username = db.Column(db.String(64), index=True, unique=True)\n",
    "    email = db.Column(db.String(120), index=True, unique=True)\n",
    "    tags = db.relationship('Tag', back_populates='user', lazy='dynamic')\n",
    "    \n",
    "    def __repr__(self):\n",
    "        return '<User {}>'.format(self.username)\n"
   ]
  },
  {
   "cell_type": "code",
   "execution_count": 3,
   "metadata": {
    "ExecuteTime": {
     "end_time": "2019-08-30T07:07:30.075605Z",
     "start_time": "2019-08-30T07:07:30.059958Z"
    }
   },
   "outputs": [],
   "source": [
    "tags = db.Table('tags',\n",
    "                db.Column('tag_id', db.Integer, db.ForeignKey('tag.id')),\n",
    "                db.Column('page_id', db.Integer, db.ForeignKey('page.id')),\n",
    "                db.Column('user_id', db.Integer, db.ForeignKey('tag.user_id')),\n",
    "                )\n",
    "\n",
    "\n",
    "class Page(db.Model):\n",
    "    id = db.Column(db.Integer, primary_key=True)\n",
    "    name = db.Column(db.String)\n",
    "    tags = db.relationship('Tag', secondary=tags,\n",
    "                           collection_class=attribute_mapped_collection(\n",
    "                               'tag_key'),\n",
    "                           back_populates=\"pages\")\n",
    "\n",
    "    def __repr__(self):\n",
    "        # return '<Page {} Tag {}>'.format(self.name, self.tags.all())\n",
    "        return '<Page {} Tag {}>'.format(self.name, self.tags)\n",
    "\n",
    "\n",
    "class Tag(db.Model):\n",
    "    id = db.Column(db.Integer, primary_key=True)\n",
    "    name = db.Column(db.String)\n",
    "    user_id = db.Column(db.Integer, db.ForeignKey('user.id'))\n",
    "    pages = db.relationship('Page', secondary=tags, back_populates=\"tags\")\n",
    "    user = db.relationship('User', secondary=tags, back_populates='tags', lazy='dynamic')\n",
    "\n",
    "    @property\n",
    "    def tag_key(self):\n",
    "        return self.user\n",
    "\n",
    "    def __repr__(self):\n",
    "        return '<Tag {} : {}>'.format(self.name, self.user)"
   ]
  },
  {
   "cell_type": "code",
   "execution_count": 4,
   "metadata": {
    "ExecuteTime": {
     "end_time": "2019-08-30T07:07:30.087608Z",
     "start_time": "2019-08-30T07:07:30.077536Z"
    }
   },
   "outputs": [],
   "source": [
    "def get_untagged_image(u):    \n",
    "    tag_u = Tag.query.filter(Tag.user==u)\n",
    "    myfilter=[~Page.tags.contains(i) for i in tag_u]\n",
    "    return Page.query.filter(*myfilter).all()"
   ]
  },
  {
   "cell_type": "code",
   "execution_count": 5,
   "metadata": {
    "ExecuteTime": {
     "end_time": "2019-08-30T07:07:30.147469Z",
     "start_time": "2019-08-30T07:07:30.089721Z"
    }
   },
   "outputs": [],
   "source": [
    "db.drop_all()"
   ]
  },
  {
   "cell_type": "code",
   "execution_count": 6,
   "metadata": {
    "ExecuteTime": {
     "end_time": "2019-08-30T07:07:30.250755Z",
     "start_time": "2019-08-30T07:07:30.149515Z"
    }
   },
   "outputs": [],
   "source": [
    "db.create_all()"
   ]
  },
  {
   "cell_type": "markdown",
   "metadata": {},
   "source": [
    "## create users, pages and tags"
   ]
  },
  {
   "cell_type": "code",
   "execution_count": 7,
   "metadata": {
    "ExecuteTime": {
     "end_time": "2019-08-30T07:07:30.325067Z",
     "start_time": "2019-08-30T07:07:30.264407Z"
    },
    "scrolled": true
   },
   "outputs": [],
   "source": [
    "u = User(username='test', email='test@test.com')\n",
    "u2 = User(username='test2', email='test2@test.com')\n",
    "db.session.add(u)\n",
    "db.session.add(u2)\n",
    "db.session.commit()"
   ]
  },
  {
   "cell_type": "code",
   "execution_count": 8,
   "metadata": {
    "ExecuteTime": {
     "end_time": "2019-08-30T07:07:30.382957Z",
     "start_time": "2019-08-30T07:07:30.332202Z"
    }
   },
   "outputs": [
    {
     "data": {
      "text/plain": [
       "[<User test>, <User test2>]"
      ]
     },
     "execution_count": 8,
     "metadata": {},
     "output_type": "execute_result"
    }
   ],
   "source": [
    "User.query.all()"
   ]
  },
  {
   "cell_type": "code",
   "execution_count": 10,
   "metadata": {
    "ExecuteTime": {
     "end_time": "2019-08-30T07:08:04.034364Z",
     "start_time": "2019-08-30T07:08:03.976955Z"
    }
   },
   "outputs": [],
   "source": [
    "t1 = Tag(name='A')\n",
    "t1.user.append(u)\n",
    "t2 = Tag(name='B')\n",
    "t2.user.append(u)\n",
    "t3 = Tag(name='C')\n",
    "t3.user.append(u)\n",
    "t4 = Tag(name='A')\n",
    "t4.user.append(u2)\n",
    "t5 = Tag(name='B')\n",
    "t5.user.append(u2)\n",
    "t6 = Tag(name='C')\n",
    "t6.user.append(u2)\n",
    "db.session.add_all([t1,t2,t3,t4,t5,t6])\n",
    "db.session.commit()"
   ]
  },
  {
   "cell_type": "code",
   "execution_count": 11,
   "metadata": {
    "ExecuteTime": {
     "end_time": "2019-08-30T07:08:05.948597Z",
     "start_time": "2019-08-30T07:08:05.929743Z"
    }
   },
   "outputs": [],
   "source": [
    "p1 = Page(name='p1')\n",
    "p2 = Page(name='p2')\n",
    "db.session.add_all([p1,p2])\n",
    "db.session.commit()"
   ]
  },
  {
   "cell_type": "code",
   "execution_count": 12,
   "metadata": {
    "ExecuteTime": {
     "end_time": "2019-08-30T07:08:07.548158Z",
     "start_time": "2019-08-30T07:08:07.531691Z"
    }
   },
   "outputs": [
    {
     "data": {
      "text/plain": [
       "[<Tag A : [<User test>]>,\n",
       " <Tag B : [<User test>]>,\n",
       " <Tag C : [<User test>]>,\n",
       " <Tag A : [<User test2>]>,\n",
       " <Tag B : [<User test2>]>,\n",
       " <Tag C : [<User test2>]>]"
      ]
     },
     "execution_count": 12,
     "metadata": {},
     "output_type": "execute_result"
    }
   ],
   "source": [
    "Tag.query.all()"
   ]
  },
  {
   "cell_type": "code",
   "execution_count": 13,
   "metadata": {
    "ExecuteTime": {
     "end_time": "2019-08-30T07:08:13.863516Z",
     "start_time": "2019-08-30T07:08:13.857546Z"
    }
   },
   "outputs": [
    {
     "data": {
      "text/plain": [
       "[<Page p1 Tag {}>, <Page p2 Tag {}>]"
      ]
     },
     "execution_count": 13,
     "metadata": {},
     "output_type": "execute_result"
    }
   ],
   "source": [
    "Page.query.all()"
   ]
  },
  {
   "cell_type": "markdown",
   "metadata": {},
   "source": [
    "## add tag on pages"
   ]
  },
  {
   "cell_type": "code",
   "execution_count": 15,
   "metadata": {
    "ExecuteTime": {
     "end_time": "2019-08-30T07:08:43.284545Z",
     "start_time": "2019-08-30T07:08:43.263847Z"
    }
   },
   "outputs": [],
   "source": [
    "p1.tags[t1.user[0]]=t1\n",
    "p1.tags[t2.user[0]]=t2\n",
    "p2.tags[t2.user[0]]=t2\n",
    "p2.tags[t4.user[0]]=t4"
   ]
  },
  {
   "cell_type": "code",
   "execution_count": 16,
   "metadata": {
    "ExecuteTime": {
     "end_time": "2019-08-30T07:08:44.607872Z",
     "start_time": "2019-08-30T07:08:44.573238Z"
    },
    "scrolled": true
   },
   "outputs": [
    {
     "data": {
      "text/plain": [
       "[<Page p1 Tag {<User test>: <Tag B : [<User test>]>}>,\n",
       " <Page p2 Tag {<User test>: <Tag B : [<User test>]>, <User test2>: <Tag A : [<User test2>]>}>]"
      ]
     },
     "execution_count": 16,
     "metadata": {},
     "output_type": "execute_result"
    }
   ],
   "source": [
    "Page.query.all()"
   ]
  },
  {
   "cell_type": "markdown",
   "metadata": {},
   "source": [
    "## query test"
   ]
  },
  {
   "cell_type": "code",
   "execution_count": 17,
   "metadata": {
    "ExecuteTime": {
     "end_time": "2019-08-30T07:09:04.160169Z",
     "start_time": "2019-08-30T07:09:04.136972Z"
    },
    "scrolled": false
   },
   "outputs": [
    {
     "data": {
      "text/plain": [
       "[<Page p2 Tag {<User test>: <Tag B : [<User test>]>, <User test2>: <Tag A : [<User test2>]>}>]"
      ]
     },
     "execution_count": 17,
     "metadata": {},
     "output_type": "execute_result"
    }
   ],
   "source": [
    "Page.query.join(Page.tags).filter(Tag.name==\"A\").all()"
   ]
  },
  {
   "cell_type": "code",
   "execution_count": 18,
   "metadata": {
    "ExecuteTime": {
     "end_time": "2019-08-30T07:09:06.442607Z",
     "start_time": "2019-08-30T07:09:06.419322Z"
    },
    "scrolled": false
   },
   "outputs": [
    {
     "data": {
      "text/plain": [
       "<Tag B : [<User test>]>"
      ]
     },
     "execution_count": 18,
     "metadata": {},
     "output_type": "execute_result"
    }
   ],
   "source": [
    "Page.query.join(Page.tags).filter(Tag.name==\"A\").first().tags[u]"
   ]
  },
  {
   "cell_type": "code",
   "execution_count": 19,
   "metadata": {
    "ExecuteTime": {
     "end_time": "2019-08-30T07:09:07.323825Z",
     "start_time": "2019-08-30T07:09:07.300363Z"
    },
    "scrolled": true
   },
   "outputs": [
    {
     "data": {
      "text/plain": [
       "[(2, None, 1),\n",
       " (4, None, 2),\n",
       " (1, None, 1),\n",
       " (3, None, 1),\n",
       " (5, None, 2),\n",
       " (6, None, 2),\n",
       " (2, 2, None),\n",
       " (4, 2, None),\n",
       " (2, 1, None)]"
      ]
     },
     "execution_count": 19,
     "metadata": {},
     "output_type": "execute_result"
    }
   ],
   "source": [
    "db.session.query(tags).all()"
   ]
  },
  {
   "cell_type": "markdown",
   "metadata": {},
   "source": [
    "### select un-tagged page under one user"
   ]
  },
  {
   "cell_type": "code",
   "execution_count": 18,
   "metadata": {
    "ExecuteTime": {
     "end_time": "2019-08-30T06:34:11.444387Z",
     "start_time": "2019-08-30T06:34:11.426069Z"
    }
   },
   "outputs": [
    {
     "data": {
      "text/plain": [
       "[<Page p1 Tag {<User test>: <Tag B : <User test>>}>,\n",
       " <Page p2 Tag {<User test>: <Tag B : <User test>>, <User test2>: <Tag A : <User test2>>}>]"
      ]
     },
     "execution_count": 18,
     "metadata": {},
     "output_type": "execute_result"
    }
   ],
   "source": [
    "Page.query.all()"
   ]
  },
  {
   "cell_type": "code",
   "execution_count": 19,
   "metadata": {
    "ExecuteTime": {
     "end_time": "2019-08-30T06:34:35.404703Z",
     "start_time": "2019-08-30T06:34:35.374428Z"
    }
   },
   "outputs": [
    {
     "data": {
      "text/plain": [
       "[<Page p1 Tag {<User test>: <Tag B : <User test>>}>]"
      ]
     },
     "execution_count": 19,
     "metadata": {},
     "output_type": "execute_result"
    }
   ],
   "source": [
    "get_untagged_image(u2)"
   ]
  },
  {
   "cell_type": "code",
   "execution_count": 20,
   "metadata": {
    "ExecuteTime": {
     "end_time": "2019-08-30T06:34:41.727892Z",
     "start_time": "2019-08-30T06:34:41.705315Z"
    }
   },
   "outputs": [
    {
     "data": {
      "text/plain": [
       "[]"
      ]
     },
     "execution_count": 20,
     "metadata": {},
     "output_type": "execute_result"
    }
   ],
   "source": [
    "get_untagged_image(u)"
   ]
  },
  {
   "cell_type": "code",
   "execution_count": 18,
   "metadata": {
    "ExecuteTime": {
     "end_time": "2019-08-30T06:22:49.435940Z",
     "start_time": "2019-08-30T06:22:49.387365Z"
    }
   },
   "outputs": [
    {
     "data": {
      "text/plain": [
       "[<Page p1 Tag {<User test>: <Tag B : <User test>>}>]"
      ]
     },
     "execution_count": 18,
     "metadata": {},
     "output_type": "execute_result"
    }
   ],
   "source": [
    "s1 = Tag.query.filter(Tag.user==u2)\n",
    "fr=[~Page.tags.contains(i) for i in s1]\n",
    "Page.query.filter(*fr).all()"
   ]
  },
  {
   "cell_type": "code",
   "execution_count": 19,
   "metadata": {
    "ExecuteTime": {
     "end_time": "2019-08-30T06:22:49.451113Z",
     "start_time": "2019-08-30T06:22:49.438205Z"
    }
   },
   "outputs": [
    {
     "data": {
      "text/plain": [
       "[]"
      ]
     },
     "execution_count": 19,
     "metadata": {},
     "output_type": "execute_result"
    }
   ],
   "source": [
    "s1 = Tag.query.filter(Tag.user==u)\n",
    "fr=[~Page.tags.contains(i) for i in s1]\n",
    "Page.query.filter(*fr).all()"
   ]
  },
  {
   "cell_type": "markdown",
   "metadata": {},
   "source": [
    "### select tag A pages under user 1"
   ]
  },
  {
   "cell_type": "code",
   "execution_count": 21,
   "metadata": {
    "ExecuteTime": {
     "end_time": "2019-08-30T06:34:49.765287Z",
     "start_time": "2019-08-30T06:34:49.745541Z"
    }
   },
   "outputs": [
    {
     "data": {
      "text/plain": [
       "[<Page p1 Tag {<User test>: <Tag B : <User test>>}>,\n",
       " <Page p2 Tag {<User test>: <Tag B : <User test>>, <User test2>: <Tag A : <User test2>>}>]"
      ]
     },
     "execution_count": 21,
     "metadata": {},
     "output_type": "execute_result"
    }
   ],
   "source": [
    "Page.query.join(Page.tags).filter(Tag.name==\"B\").filter(Tag.user==u).all()"
   ]
  },
  {
   "cell_type": "code",
   "execution_count": 22,
   "metadata": {
    "ExecuteTime": {
     "end_time": "2019-08-30T06:34:49.782754Z",
     "start_time": "2019-08-30T06:34:49.769369Z"
    }
   },
   "outputs": [
    {
     "data": {
      "text/plain": [
       "[<Page p2 Tag {<User test>: <Tag B : <User test>>, <User test2>: <Tag A : <User test2>>}>]"
      ]
     },
     "execution_count": 22,
     "metadata": {},
     "output_type": "execute_result"
    }
   ],
   "source": [
    "Page.query.join(Page.tags).filter(Tag.name==\"A\").filter(Tag.user==u2).all()"
   ]
  },
  {
   "cell_type": "code",
   "execution_count": 23,
   "metadata": {
    "ExecuteTime": {
     "end_time": "2019-08-30T06:34:49.792825Z",
     "start_time": "2019-08-30T06:34:49.785812Z"
    }
   },
   "outputs": [
    {
     "data": {
      "text/plain": [
       "[]"
      ]
     },
     "execution_count": 23,
     "metadata": {},
     "output_type": "execute_result"
    }
   ],
   "source": [
    "Page.query.join(Page.tags).filter(Tag.name==\"B\").filter(Tag.user==u2).all()"
   ]
  },
  {
   "cell_type": "code",
   "execution_count": 24,
   "metadata": {
    "ExecuteTime": {
     "end_time": "2019-08-30T06:34:49.804731Z",
     "start_time": "2019-08-30T06:34:49.794668Z"
    }
   },
   "outputs": [
    {
     "data": {
      "text/plain": [
       "[<Page p1 Tag {<User test>: <Tag B : <User test>>}>,\n",
       " <Page p2 Tag {<User test>: <Tag B : <User test>>, <User test2>: <Tag A : <User test2>>}>]"
      ]
     },
     "execution_count": 24,
     "metadata": {},
     "output_type": "execute_result"
    }
   ],
   "source": [
    "t = Tag.query.filter(Tag.user_id==u.id).filter(Tag.name=='B').first()\n",
    "t.pages.all()"
   ]
  },
  {
   "cell_type": "code",
   "execution_count": 25,
   "metadata": {
    "ExecuteTime": {
     "end_time": "2019-08-30T06:34:49.818298Z",
     "start_time": "2019-08-30T06:34:49.806266Z"
    }
   },
   "outputs": [
    {
     "data": {
      "text/plain": [
       "[<Page p2 Tag {<User test>: <Tag B : <User test>>, <User test2>: <Tag A : <User test2>>}>]"
      ]
     },
     "execution_count": 25,
     "metadata": {},
     "output_type": "execute_result"
    }
   ],
   "source": [
    "t = Tag.query.filter(Tag.user_id==u2.id).filter(Tag.name=='A').first()\n",
    "t.pages.all()"
   ]
  },
  {
   "cell_type": "code",
   "execution_count": 26,
   "metadata": {
    "ExecuteTime": {
     "end_time": "2019-08-30T06:34:49.828333Z",
     "start_time": "2019-08-30T06:34:49.821675Z"
    }
   },
   "outputs": [
    {
     "data": {
      "text/plain": [
       "[]"
      ]
     },
     "execution_count": 26,
     "metadata": {},
     "output_type": "execute_result"
    }
   ],
   "source": [
    "t = Tag.query.filter(Tag.user_id==u2.id).filter(Tag.name=='B').first()\n",
    "t.pages.all()"
   ]
  },
  {
   "cell_type": "code",
   "execution_count": null,
   "metadata": {},
   "outputs": [],
   "source": []
  },
  {
   "cell_type": "code",
   "execution_count": 19,
   "metadata": {
    "ExecuteTime": {
     "end_time": "2019-08-30T06:57:01.680372Z",
     "start_time": "2019-08-30T06:57:01.543221Z"
    }
   },
   "outputs": [
    {
     "ename": "AttributeError",
     "evalue": "type object 'Page' has no attribute 'tag_id'",
     "output_type": "error",
     "traceback": [
      "\u001b[0;31m---------------------------------------------------------------------------\u001b[0m",
      "\u001b[0;31mAttributeError\u001b[0m                            Traceback (most recent call last)",
      "\u001b[0;32m<ipython-input-19-72901243e051>\u001b[0m in \u001b[0;36m<module>\u001b[0;34m\u001b[0m\n\u001b[0;32m----> 1\u001b[0;31m \u001b[0mPage\u001b[0m\u001b[0;34m.\u001b[0m\u001b[0mquery\u001b[0m\u001b[0;34m.\u001b[0m\u001b[0mjoin\u001b[0m\u001b[0;34m(\u001b[0m\u001b[0mtags\u001b[0m\u001b[0;34m,\u001b[0m \u001b[0;34m(\u001b[0m\u001b[0mtags\u001b[0m\u001b[0;34m.\u001b[0m\u001b[0mc\u001b[0m\u001b[0;34m.\u001b[0m\u001b[0mtag_id\u001b[0m \u001b[0;34m==\u001b[0m \u001b[0mPage\u001b[0m\u001b[0;34m.\u001b[0m\u001b[0mtag_id\u001b[0m\u001b[0;34m)\u001b[0m\u001b[0;34m)\u001b[0m\u001b[0;34m\u001b[0m\u001b[0;34m\u001b[0m\u001b[0m\n\u001b[0m",
      "\u001b[0;31mAttributeError\u001b[0m: type object 'Page' has no attribute 'tag_id'"
     ]
    }
   ],
   "source": [
    "Page.query.join(tags, (tags.c.tag_id == Page.tag_id))"
   ]
  },
  {
   "cell_type": "code",
   "execution_count": 18,
   "metadata": {
    "ExecuteTime": {
     "end_time": "2019-08-30T06:56:14.558775Z",
     "start_time": "2019-08-30T06:56:14.545598Z"
    }
   },
   "outputs": [
    {
     "data": {
      "text/plain": [
       "Column('tag_id', Integer(), ForeignKey('tag.id'), table=<tags>)"
      ]
     },
     "execution_count": 18,
     "metadata": {},
     "output_type": "execute_result"
    }
   ],
   "source": [
    "tags.c.tag_id"
   ]
  },
  {
   "cell_type": "code",
   "execution_count": null,
   "metadata": {},
   "outputs": [],
   "source": []
  }
 ],
 "metadata": {
  "hide_input": false,
  "kernelspec": {
   "display_name": "work",
   "language": "python",
   "name": "work"
  },
  "language_info": {
   "codemirror_mode": {
    "name": "ipython",
    "version": 3
   },
   "file_extension": ".py",
   "mimetype": "text/x-python",
   "name": "python",
   "nbconvert_exporter": "python",
   "pygments_lexer": "ipython3",
   "version": "3.7.3"
  },
  "latex_envs": {
   "LaTeX_envs_menu_present": true,
   "autoclose": false,
   "autocomplete": true,
   "bibliofile": "biblio.bib",
   "cite_by": "apalike",
   "current_citInitial": 1,
   "eqLabelWithNumbers": true,
   "eqNumInitial": 1,
   "hotkeys": {
    "equation": "Ctrl-E",
    "itemize": "Ctrl-I"
   },
   "labels_anchors": false,
   "latex_user_defs": false,
   "report_style_numbering": false,
   "user_envs_cfg": false
  },
  "toc": {
   "base_numbering": 1,
   "nav_menu": {},
   "number_sections": true,
   "sideBar": true,
   "skip_h1_title": false,
   "title_cell": "Table of Contents",
   "title_sidebar": "Contents",
   "toc_cell": false,
   "toc_position": {},
   "toc_section_display": true,
   "toc_window_display": false
  },
  "varInspector": {
   "cols": {
    "lenName": 16,
    "lenType": 16,
    "lenVar": 40
   },
   "kernels_config": {
    "python": {
     "delete_cmd_postfix": "",
     "delete_cmd_prefix": "del ",
     "library": "var_list.py",
     "varRefreshCmd": "print(var_dic_list())"
    },
    "r": {
     "delete_cmd_postfix": ") ",
     "delete_cmd_prefix": "rm(",
     "library": "var_list.r",
     "varRefreshCmd": "cat(var_dic_list()) "
    }
   },
   "types_to_exclude": [
    "module",
    "function",
    "builtin_function_or_method",
    "instance",
    "_Feature"
   ],
   "window_display": false
  }
 },
 "nbformat": 4,
 "nbformat_minor": 2
}
