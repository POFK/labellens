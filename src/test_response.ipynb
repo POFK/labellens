{
 "cells": [
  {
   "cell_type": "code",
   "execution_count": 1,
   "metadata": {
    "ExecuteTime": {
     "end_time": "2019-09-10T11:34:03.783423Z",
     "start_time": "2019-09-10T11:34:03.499012Z"
    }
   },
   "outputs": [],
   "source": [
    "from app.response import Response\n",
    "from app.models import User, Conf, Catalog, Image, Tag\n",
    "from app import db"
   ]
  },
  {
   "cell_type": "markdown",
   "metadata": {},
   "source": [
    "### init dataset"
   ]
  },
  {
   "cell_type": "code",
   "execution_count": 2,
   "metadata": {
    "ExecuteTime": {
     "end_time": "2019-09-06T04:20:30.238853Z",
     "start_time": "2019-09-06T04:20:30.102946Z"
    }
   },
   "outputs": [],
   "source": [
    "db.drop_all()\n",
    "db.create_all()"
   ]
  },
  {
   "cell_type": "code",
   "execution_count": 2,
   "metadata": {
    "ExecuteTime": {
     "end_time": "2019-09-09T08:18:29.316958Z",
     "start_time": "2019-09-09T08:18:29.297604Z"
    }
   },
   "outputs": [],
   "source": [
    "u = User(username='admit',email=\"admit@test.com\")"
   ]
  },
  {
   "cell_type": "code",
   "execution_count": 3,
   "metadata": {
    "ExecuteTime": {
     "end_time": "2019-09-09T08:18:30.847684Z",
     "start_time": "2019-09-09T08:18:30.811664Z"
    }
   },
   "outputs": [],
   "source": [
    "db.session.add(u)\n",
    "db.session.commit()"
   ]
  },
  {
   "cell_type": "code",
   "execution_count": 4,
   "metadata": {
    "ExecuteTime": {
     "end_time": "2019-09-09T08:18:31.338984Z",
     "start_time": "2019-09-09T08:18:31.333197Z"
    }
   },
   "outputs": [],
   "source": [
    "res = Response(u)"
   ]
  },
  {
   "cell_type": "code",
   "execution_count": 5,
   "metadata": {
    "ExecuteTime": {
     "end_time": "2019-09-09T08:18:31.916300Z",
     "start_time": "2019-09-09T08:18:31.888523Z"
    }
   },
   "outputs": [],
   "source": [
    "res.init_catalog()"
   ]
  },
  {
   "cell_type": "code",
   "execution_count": 6,
   "metadata": {
    "ExecuteTime": {
     "end_time": "2019-09-09T08:18:32.522569Z",
     "start_time": "2019-09-09T08:18:32.493158Z"
    }
   },
   "outputs": [],
   "source": [
    "res.init_images()"
   ]
  },
  {
   "cell_type": "code",
   "execution_count": 7,
   "metadata": {
    "ExecuteTime": {
     "end_time": "2019-09-09T08:18:33.283838Z",
     "start_time": "2019-09-09T08:18:33.238777Z"
    }
   },
   "outputs": [
    {
     "data": {
      "text/plain": [
       "[<CAT 1 path: data>]"
      ]
     },
     "execution_count": 7,
     "metadata": {},
     "output_type": "execute_result"
    }
   ],
   "source": [
    "Catalog.query.all()"
   ]
  },
  {
   "cell_type": "code",
   "execution_count": 8,
   "metadata": {
    "ExecuteTime": {
     "end_time": "2019-09-09T08:18:33.899378Z",
     "start_time": "2019-09-09T08:18:33.859871Z"
    }
   },
   "outputs": [
    {
     "data": {
      "text/plain": [
       "[<Image 1 84651002819.png @ Cat 1, Tag {}>,\n",
       " <Image 2 84651013968.png @ Cat 1, Tag {}>,\n",
       " <Image 3 84651018070.png @ Cat 1, Tag {}>,\n",
       " <Image 4 84651019902.png @ Cat 1, Tag {}>,\n",
       " <Image 5 84651020475.png @ Cat 1, Tag {}>,\n",
       " <Image 6 84651020533.png @ Cat 1, Tag {}>,\n",
       " <Image 7 84651021925.png @ Cat 1, Tag {}>,\n",
       " <Image 8 84651022038.png @ Cat 1, Tag {}>,\n",
       " <Image 9 84651025036.png @ Cat 1, Tag {}>,\n",
       " <Image 10 84651025183.png @ Cat 1, Tag {}>]"
      ]
     },
     "execution_count": 8,
     "metadata": {},
     "output_type": "execute_result"
    }
   ],
   "source": [
    "Image.query.all()"
   ]
  },
  {
   "cell_type": "code",
   "execution_count": 8,
   "metadata": {
    "ExecuteTime": {
     "end_time": "2019-09-06T04:20:30.340302Z",
     "start_time": "2019-09-06T04:20:30.336690Z"
    }
   },
   "outputs": [],
   "source": [
    "cat = Catalog.query.filter_by(name='data').first()"
   ]
  },
  {
   "cell_type": "code",
   "execution_count": 9,
   "metadata": {
    "ExecuteTime": {
     "end_time": "2019-09-06T04:20:30.351936Z",
     "start_time": "2019-09-06T04:20:30.342046Z"
    }
   },
   "outputs": [
    {
     "data": {
      "text/plain": [
       "[<Image 1 84651002819.png @ Cat 1, Tag {}>,\n",
       " <Image 2 84651013968.png @ Cat 1, Tag {}>,\n",
       " <Image 3 84651018070.png @ Cat 1, Tag {}>,\n",
       " <Image 4 84651019902.png @ Cat 1, Tag {}>,\n",
       " <Image 5 84651020475.png @ Cat 1, Tag {}>,\n",
       " <Image 6 84651020533.png @ Cat 1, Tag {}>,\n",
       " <Image 7 84651021925.png @ Cat 1, Tag {}>,\n",
       " <Image 8 84651022038.png @ Cat 1, Tag {}>,\n",
       " <Image 9 84651025036.png @ Cat 1, Tag {}>,\n",
       " <Image 10 84651025183.png @ Cat 1, Tag {}>]"
      ]
     },
     "execution_count": 9,
     "metadata": {},
     "output_type": "execute_result"
    }
   ],
   "source": [
    "cat.images.all()"
   ]
  },
  {
   "cell_type": "code",
   "execution_count": 2,
   "metadata": {
    "ExecuteTime": {
     "end_time": "2019-09-08T13:39:08.056927Z",
     "start_time": "2019-09-08T13:39:08.026735Z"
    }
   },
   "outputs": [],
   "source": [
    "u = User(username='admit',email=\"admit@test.com\")"
   ]
  },
  {
   "cell_type": "code",
   "execution_count": 11,
   "metadata": {
    "ExecuteTime": {
     "end_time": "2019-09-06T04:20:30.377889Z",
     "start_time": "2019-09-06T04:20:30.360584Z"
    }
   },
   "outputs": [],
   "source": [
    "db.session.add(u)\n",
    "db.session.commit()"
   ]
  },
  {
   "cell_type": "code",
   "execution_count": 12,
   "metadata": {
    "ExecuteTime": {
     "end_time": "2019-09-06T04:20:30.384077Z",
     "start_time": "2019-09-06T04:20:30.379770Z"
    }
   },
   "outputs": [],
   "source": [
    "t1 = Tag(name='A', user=u)\n",
    "t2 = Tag(name='B', user=u)\n",
    "t3 = Tag(name='C', user=u)\n",
    "t4 = Tag(name='N', user=u)"
   ]
  },
  {
   "cell_type": "code",
   "execution_count": 13,
   "metadata": {
    "ExecuteTime": {
     "end_time": "2019-09-06T04:20:30.399413Z",
     "start_time": "2019-09-06T04:20:30.386576Z"
    }
   },
   "outputs": [
    {
     "data": {
      "text/plain": [
       "[<User admit>]"
      ]
     },
     "execution_count": 13,
     "metadata": {},
     "output_type": "execute_result"
    }
   ],
   "source": [
    "User.query.all()"
   ]
  },
  {
   "cell_type": "markdown",
   "metadata": {},
   "source": [
    "### control"
   ]
  },
  {
   "cell_type": "markdown",
   "metadata": {},
   "source": [
    "#### get configure"
   ]
  },
  {
   "cell_type": "code",
   "execution_count": 14,
   "metadata": {
    "ExecuteTime": {
     "end_time": "2019-09-06T04:20:30.408134Z",
     "start_time": "2019-09-06T04:20:30.403150Z"
    }
   },
   "outputs": [],
   "source": [
    "def add_conf(u):\n",
    "    query = Conf.query.filter_by(user_id=u.id)\n",
    "    assert query.count() < 2, \\\n",
    "            \"There should be only one setting item per user!\"\n",
    "    data = {\n",
    "        \"grade_a\": \"1\",\n",
    "        \"grade_b\": \"2\",\n",
    "        \"grade_c\": \"3\",\n",
    "        \"nonlens\": \"0\",\n",
    "        \"next_im\": \"j\",\n",
    "        \"prev_im\": \"k\",\n",
    "    }\n",
    "    if query.count() == 0:\n",
    "        data[\"user\"] = u\n",
    "        conf = Conf(**data)\n",
    "        db.session.add(conf)\n",
    "    else:\n",
    "        query.update(data)\n",
    "    db.session.commit()\n"
   ]
  },
  {
   "cell_type": "code",
   "execution_count": 15,
   "metadata": {
    "ExecuteTime": {
     "end_time": "2019-09-06T04:20:30.440024Z",
     "start_time": "2019-09-06T04:20:30.409555Z"
    }
   },
   "outputs": [],
   "source": [
    "add_conf(u)"
   ]
  },
  {
   "cell_type": "code",
   "execution_count": 8,
   "metadata": {
    "ExecuteTime": {
     "end_time": "2019-09-08T13:40:28.214482Z",
     "start_time": "2019-09-08T13:40:28.184773Z"
    }
   },
   "outputs": [
    {
     "name": "stdout",
     "output_type": "stream",
     "text": [
      "SELECT image.id AS image_id, image.name AS image_name, image.catalog_id AS image_catalog_id \n",
      "FROM image\n"
     ]
    },
    {
     "data": {
      "text/plain": [
       "(None, <Image 1 84651002819.png @ Cat 1, Tag {}>)"
      ]
     },
     "execution_count": 8,
     "metadata": {},
     "output_type": "execute_result"
    }
   ],
   "source": [
    "res.get_current_query(), res.get_current_image()"
   ]
  },
  {
   "cell_type": "code",
   "execution_count": 17,
   "metadata": {
    "ExecuteTime": {
     "end_time": "2019-09-06T04:20:30.465390Z",
     "start_time": "2019-09-06T04:20:30.449528Z"
    },
    "scrolled": true
   },
   "outputs": [],
   "source": [
    "res.get_conf(u.id)"
   ]
  },
  {
   "cell_type": "code",
   "execution_count": 18,
   "metadata": {
    "ExecuteTime": {
     "end_time": "2019-09-06T04:20:30.473117Z",
     "start_time": "2019-09-06T04:20:30.469674Z"
    },
    "scrolled": true
   },
   "outputs": [
    {
     "data": {
      "text/plain": [
       "{'_sa_instance_state': <sqlalchemy.orm.state.InstanceState at 0x7f2ecdd747b8>,\n",
       " 'grade_c': '3',\n",
       " 'grade_a': '1',\n",
       " 'prev_im': 'k',\n",
       " 'nonlens': '0',\n",
       " 'grade_b': '2',\n",
       " 'id': 1,\n",
       " 'user_id': 1,\n",
       " 'next_im': 'j'}"
      ]
     },
     "execution_count": 18,
     "metadata": {},
     "output_type": "execute_result"
    }
   ],
   "source": [
    "res.conf"
   ]
  },
  {
   "cell_type": "markdown",
   "metadata": {},
   "source": [
    "### test add label"
   ]
  },
  {
   "cell_type": "markdown",
   "metadata": {},
   "source": [
    "#### add label on unlabelled image"
   ]
  },
  {
   "cell_type": "code",
   "execution_count": 19,
   "metadata": {
    "ExecuteTime": {
     "end_time": "2019-09-06T04:20:30.482102Z",
     "start_time": "2019-09-06T04:20:30.474988Z"
    }
   },
   "outputs": [],
   "source": [
    "res.im_id = 1"
   ]
  },
  {
   "cell_type": "code",
   "execution_count": 20,
   "metadata": {
    "ExecuteTime": {
     "end_time": "2019-09-06T04:20:30.500381Z",
     "start_time": "2019-09-06T04:20:30.483690Z"
    },
    "scrolled": false
   },
   "outputs": [
    {
     "data": {
      "text/plain": [
       "[<Image 1 84651002819.png @ Cat 1, Tag {}>,\n",
       " <Image 2 84651013968.png @ Cat 1, Tag {}>,\n",
       " <Image 3 84651018070.png @ Cat 1, Tag {}>,\n",
       " <Image 4 84651019902.png @ Cat 1, Tag {}>,\n",
       " <Image 5 84651020475.png @ Cat 1, Tag {}>,\n",
       " <Image 6 84651020533.png @ Cat 1, Tag {}>,\n",
       " <Image 7 84651021925.png @ Cat 1, Tag {}>,\n",
       " <Image 8 84651022038.png @ Cat 1, Tag {}>,\n",
       " <Image 9 84651025036.png @ Cat 1, Tag {}>,\n",
       " <Image 10 84651025183.png @ Cat 1, Tag {}>]"
      ]
     },
     "execution_count": 20,
     "metadata": {},
     "output_type": "execute_result"
    }
   ],
   "source": [
    "res.im_query.all()"
   ]
  },
  {
   "cell_type": "code",
   "execution_count": 21,
   "metadata": {
    "ExecuteTime": {
     "end_time": "2019-09-06T04:20:30.538069Z",
     "start_time": "2019-09-06T04:20:30.505177Z"
    }
   },
   "outputs": [],
   "source": [
    "res.keys['1']()\n",
    "res.keys['2']()\n",
    "res.keys['3']()\n",
    "res.keys['0']()"
   ]
  },
  {
   "cell_type": "code",
   "execution_count": 22,
   "metadata": {
    "ExecuteTime": {
     "end_time": "2019-09-06T04:20:30.546996Z",
     "start_time": "2019-09-06T04:20:30.540078Z"
    },
    "scrolled": false
   },
   "outputs": [
    {
     "data": {
      "text/plain": [
       "[<Image 1 84651002819.png @ Cat 1, Tag {<User admit>: <Tag A by <User admit>>}>,\n",
       " <Image 2 84651013968.png @ Cat 1, Tag {<User admit>: <Tag B by <User admit>>}>,\n",
       " <Image 3 84651018070.png @ Cat 1, Tag {<User admit>: <Tag C by <User admit>>}>,\n",
       " <Image 4 84651019902.png @ Cat 1, Tag {<User admit>: <Tag N by <User admit>>}>,\n",
       " <Image 5 84651020475.png @ Cat 1, Tag {}>,\n",
       " <Image 6 84651020533.png @ Cat 1, Tag {}>,\n",
       " <Image 7 84651021925.png @ Cat 1, Tag {}>,\n",
       " <Image 8 84651022038.png @ Cat 1, Tag {}>,\n",
       " <Image 9 84651025036.png @ Cat 1, Tag {}>,\n",
       " <Image 10 84651025183.png @ Cat 1, Tag {}>]"
      ]
     },
     "execution_count": 22,
     "metadata": {},
     "output_type": "execute_result"
    }
   ],
   "source": [
    "res.im_query.all()"
   ]
  },
  {
   "cell_type": "markdown",
   "metadata": {},
   "source": [
    "#### previous and next method"
   ]
  },
  {
   "cell_type": "code",
   "execution_count": 23,
   "metadata": {
    "ExecuteTime": {
     "end_time": "2019-09-06T04:20:30.553533Z",
     "start_time": "2019-09-06T04:20:30.548602Z"
    }
   },
   "outputs": [],
   "source": [
    "res.im_id = 2"
   ]
  },
  {
   "cell_type": "code",
   "execution_count": 24,
   "metadata": {
    "ExecuteTime": {
     "end_time": "2019-09-06T04:20:30.564371Z",
     "start_time": "2019-09-06T04:20:30.554908Z"
    }
   },
   "outputs": [
    {
     "name": "stdout",
     "output_type": "stream",
     "text": [
      "<Image 1 84651002819.png @ Cat 1, Tag {<User admit>: <Tag A by <User admit>>}>\n"
     ]
    }
   ],
   "source": [
    "res.keys['k']()\n",
    "print(res.get_current_image())"
   ]
  },
  {
   "cell_type": "code",
   "execution_count": 25,
   "metadata": {
    "ExecuteTime": {
     "end_time": "2019-09-06T04:20:30.586796Z",
     "start_time": "2019-09-06T04:20:30.565875Z"
    }
   },
   "outputs": [
    {
     "name": "stdout",
     "output_type": "stream",
     "text": [
      "<Image 4 84651019902.png @ Cat 1, Tag {<User admit>: <Tag N by <User admit>>}>\n"
     ]
    }
   ],
   "source": [
    "res.keys['j'](),res.keys['j'](),res.keys['j']()\n",
    "print(res.get_current_image())"
   ]
  },
  {
   "cell_type": "code",
   "execution_count": 26,
   "metadata": {
    "ExecuteTime": {
     "end_time": "2019-09-06T04:20:30.595995Z",
     "start_time": "2019-09-06T04:20:30.589253Z"
    }
   },
   "outputs": [
    {
     "name": "stdout",
     "output_type": "stream",
     "text": [
      "<Image 5 84651020475.png @ Cat 1, Tag {}>\n"
     ]
    }
   ],
   "source": [
    "res.keys['j']()\n",
    "print(res.get_current_image())"
   ]
  },
  {
   "cell_type": "code",
   "execution_count": 27,
   "metadata": {
    "ExecuteTime": {
     "end_time": "2019-09-06T04:20:30.612776Z",
     "start_time": "2019-09-06T04:20:30.597601Z"
    }
   },
   "outputs": [
    {
     "name": "stdout",
     "output_type": "stream",
     "text": [
      "<Image 6 84651020533.png @ Cat 1, Tag {}>\n"
     ]
    }
   ],
   "source": [
    "res.keys['j']()\n",
    "print(res.get_current_image())"
   ]
  },
  {
   "cell_type": "code",
   "execution_count": 28,
   "metadata": {
    "ExecuteTime": {
     "end_time": "2019-09-06T04:20:30.622107Z",
     "start_time": "2019-09-06T04:20:30.615192Z"
    },
    "scrolled": true
   },
   "outputs": [
    {
     "data": {
      "text/plain": [
       "[<Image 1 84651002819.png @ Cat 1, Tag {<User admit>: <Tag A by <User admit>>}>,\n",
       " <Image 2 84651013968.png @ Cat 1, Tag {<User admit>: <Tag B by <User admit>>}>,\n",
       " <Image 3 84651018070.png @ Cat 1, Tag {<User admit>: <Tag C by <User admit>>}>,\n",
       " <Image 4 84651019902.png @ Cat 1, Tag {<User admit>: <Tag N by <User admit>>}>,\n",
       " <Image 5 84651020475.png @ Cat 1, Tag {<User admit>: <Tag N by <User admit>>}>,\n",
       " <Image 6 84651020533.png @ Cat 1, Tag {}>,\n",
       " <Image 7 84651021925.png @ Cat 1, Tag {}>,\n",
       " <Image 8 84651022038.png @ Cat 1, Tag {}>,\n",
       " <Image 9 84651025036.png @ Cat 1, Tag {}>,\n",
       " <Image 10 84651025183.png @ Cat 1, Tag {}>]"
      ]
     },
     "execution_count": 28,
     "metadata": {},
     "output_type": "execute_result"
    }
   ],
   "source": [
    "res.im_query.all()"
   ]
  },
  {
   "cell_type": "markdown",
   "metadata": {},
   "source": [
    "#### change label"
   ]
  },
  {
   "cell_type": "code",
   "execution_count": 29,
   "metadata": {
    "ExecuteTime": {
     "end_time": "2019-09-06T04:20:30.631028Z",
     "start_time": "2019-09-06T04:20:30.624370Z"
    }
   },
   "outputs": [],
   "source": [
    "res.im_id = 2"
   ]
  },
  {
   "cell_type": "code",
   "execution_count": 30,
   "metadata": {
    "ExecuteTime": {
     "end_time": "2019-09-06T04:20:30.654214Z",
     "start_time": "2019-09-06T04:20:30.633141Z"
    }
   },
   "outputs": [],
   "source": [
    "res.keys['0']()\n",
    "res.keys['1']()"
   ]
  },
  {
   "cell_type": "code",
   "execution_count": 31,
   "metadata": {
    "ExecuteTime": {
     "end_time": "2019-09-06T04:20:30.665246Z",
     "start_time": "2019-09-06T04:20:30.656110Z"
    },
    "scrolled": true
   },
   "outputs": [
    {
     "data": {
      "text/plain": [
       "[<Image 1 84651002819.png @ Cat 1, Tag {<User admit>: <Tag A by <User admit>>}>,\n",
       " <Image 2 84651013968.png @ Cat 1, Tag {<User admit>: <Tag N by <User admit>>}>,\n",
       " <Image 3 84651018070.png @ Cat 1, Tag {<User admit>: <Tag A by <User admit>>}>,\n",
       " <Image 4 84651019902.png @ Cat 1, Tag {<User admit>: <Tag N by <User admit>>}>,\n",
       " <Image 5 84651020475.png @ Cat 1, Tag {<User admit>: <Tag N by <User admit>>}>,\n",
       " <Image 6 84651020533.png @ Cat 1, Tag {}>,\n",
       " <Image 7 84651021925.png @ Cat 1, Tag {}>,\n",
       " <Image 8 84651022038.png @ Cat 1, Tag {}>,\n",
       " <Image 9 84651025036.png @ Cat 1, Tag {}>,\n",
       " <Image 10 84651025183.png @ Cat 1, Tag {}>]"
      ]
     },
     "execution_count": 31,
     "metadata": {},
     "output_type": "execute_result"
    }
   ],
   "source": [
    "res.im_query.all()"
   ]
  },
  {
   "cell_type": "markdown",
   "metadata": {},
   "source": [
    "#### check filter"
   ]
  },
  {
   "cell_type": "code",
   "execution_count": 32,
   "metadata": {
    "ExecuteTime": {
     "end_time": "2019-09-06T04:20:30.682845Z",
     "start_time": "2019-09-06T04:20:30.668590Z"
    }
   },
   "outputs": [
    {
     "data": {
      "text/plain": [
       "[<Image 6 84651020533.png @ Cat 1, Tag {}>,\n",
       " <Image 7 84651021925.png @ Cat 1, Tag {}>,\n",
       " <Image 8 84651022038.png @ Cat 1, Tag {}>,\n",
       " <Image 9 84651025036.png @ Cat 1, Tag {}>,\n",
       " <Image 10 84651025183.png @ Cat 1, Tag {}>]"
      ]
     },
     "execution_count": 32,
     "metadata": {},
     "output_type": "execute_result"
    }
   ],
   "source": [
    "res.filter_untag()\n",
    "res.im_query.all()"
   ]
  },
  {
   "cell_type": "code",
   "execution_count": 33,
   "metadata": {
    "ExecuteTime": {
     "end_time": "2019-09-06T04:20:30.715148Z",
     "start_time": "2019-09-06T04:20:30.705034Z"
    }
   },
   "outputs": [
    {
     "data": {
      "text/plain": [
       "[<Image 1 84651002819.png @ Cat 1, Tag {<User admit>: <Tag A by <User admit>>}>,\n",
       " <Image 3 84651018070.png @ Cat 1, Tag {<User admit>: <Tag A by <User admit>>}>]"
      ]
     },
     "execution_count": 33,
     "metadata": {},
     "output_type": "execute_result"
    }
   ],
   "source": [
    "res.filter_tagA()\n",
    "res.im_query.all()"
   ]
  },
  {
   "cell_type": "code",
   "execution_count": 34,
   "metadata": {
    "ExecuteTime": {
     "end_time": "2019-09-06T04:20:30.715148Z",
     "start_time": "2019-09-06T04:20:30.705034Z"
    }
   },
   "outputs": [
    {
     "data": {
      "text/plain": [
       "[]"
      ]
     },
     "execution_count": 34,
     "metadata": {},
     "output_type": "execute_result"
    }
   ],
   "source": [
    "res.filter_tagB()\n",
    "res.im_query.all()"
   ]
  },
  {
   "cell_type": "code",
   "execution_count": 35,
   "metadata": {
    "ExecuteTime": {
     "end_time": "2019-09-06T04:20:30.715148Z",
     "start_time": "2019-09-06T04:20:30.705034Z"
    }
   },
   "outputs": [
    {
     "data": {
      "text/plain": [
       "[<Image 2 84651013968.png @ Cat 1, Tag {<User admit>: <Tag N by <User admit>>}>,\n",
       " <Image 4 84651019902.png @ Cat 1, Tag {<User admit>: <Tag N by <User admit>>}>,\n",
       " <Image 5 84651020475.png @ Cat 1, Tag {<User admit>: <Tag N by <User admit>>}>]"
      ]
     },
     "execution_count": 35,
     "metadata": {},
     "output_type": "execute_result"
    }
   ],
   "source": [
    "res.filter_tagN()\n",
    "res.im_query.all()"
   ]
  },
  {
   "cell_type": "markdown",
   "metadata": {},
   "source": [
    "#### for test"
   ]
  },
  {
   "cell_type": "code",
   "execution_count": 38,
   "metadata": {
    "ExecuteTime": {
     "end_time": "2019-09-06T09:18:11.177611Z",
     "start_time": "2019-09-06T09:18:11.167821Z"
    }
   },
   "outputs": [
    {
     "name": "stdout",
     "output_type": "stream",
     "text": [
      "(0, 1)\n",
      "(1, 2)\n",
      "(2, 3)\n"
     ]
    }
   ],
   "source": [
    "for i in enumerate([1,2,3]):\n",
    "    print(i)"
   ]
  },
  {
   "cell_type": "code",
   "execution_count": 1,
   "metadata": {
    "ExecuteTime": {
     "end_time": "2019-09-09T02:34:53.442890Z",
     "start_time": "2019-09-09T02:34:53.084387Z"
    }
   },
   "outputs": [],
   "source": [
    "from app.response import Response\n",
    "from app.models import User, Conf, Catalog, Image, Tag\n",
    "from app import db"
   ]
  },
  {
   "cell_type": "code",
   "execution_count": 2,
   "metadata": {
    "ExecuteTime": {
     "end_time": "2019-09-09T02:34:54.062558Z",
     "start_time": "2019-09-09T02:34:54.028633Z"
    }
   },
   "outputs": [],
   "source": [
    "u = User.query.filter_by(username=\"a7\").first()"
   ]
  },
  {
   "cell_type": "code",
   "execution_count": 3,
   "metadata": {
    "ExecuteTime": {
     "end_time": "2019-09-09T02:34:55.902637Z",
     "start_time": "2019-09-09T02:34:55.877168Z"
    }
   },
   "outputs": [],
   "source": [
    "res = Response(u)"
   ]
  },
  {
   "cell_type": "code",
   "execution_count": 4,
   "metadata": {
    "ExecuteTime": {
     "end_time": "2019-09-09T01:23:01.855625Z",
     "start_time": "2019-09-09T01:23:01.809469Z"
    },
    "scrolled": true
   },
   "outputs": [
    {
     "name": "stdout",
     "output_type": "stream",
     "text": [
      "{'_sa_instance_state': <sqlalchemy.orm.state.InstanceState object at 0x7f28efd0f278>, 'id': 17, 'user_id': 21, 'next_im': 'j', 'grade_c': '3', 'grade_a': '1', 'prev_im': 'k', 'nonlens': '0', 'grade_b': '2'}\n",
      "running _conf_method, []\n",
      "running _conf_method, [<Tag A by <User a7>>, <Tag B by <User a7>>, <Tag C by <User a7>>, <Tag N by <User a7>>]\n"
     ]
    }
   ],
   "source": [
    "res.get_conf()"
   ]
  },
  {
   "cell_type": "code",
   "execution_count": 5,
   "metadata": {
    "ExecuteTime": {
     "end_time": "2019-09-09T01:23:06.015016Z",
     "start_time": "2019-09-09T01:23:05.985875Z"
    }
   },
   "outputs": [
    {
     "data": {
      "text/plain": [
       "'1'"
      ]
     },
     "execution_count": 5,
     "metadata": {},
     "output_type": "execute_result"
    }
   ],
   "source": [
    "res.conf['grade_a']"
   ]
  },
  {
   "cell_type": "code",
   "execution_count": 6,
   "metadata": {
    "ExecuteTime": {
     "end_time": "2019-09-09T01:23:06.718730Z",
     "start_time": "2019-09-09T01:23:06.696067Z"
    }
   },
   "outputs": [
    {
     "data": {
      "text/plain": [
       "[<key map {'_sa_instance_state': <sqlalchemy.orm.state.InstanceState object at 0x7f28efc9bc50>, 'id': 17, 'user_id': 21, 'next_im': 'j', 'grade_c': '3', 'grade_a': '1', 'prev_im': 'k', 'nonlens': '0', 'grade_b': '2'}>]"
      ]
     },
     "execution_count": 6,
     "metadata": {},
     "output_type": "execute_result"
    }
   ],
   "source": [
    "Conf.query.filter_by(user_id=u.id).all()"
   ]
  },
  {
   "cell_type": "code",
   "execution_count": 7,
   "metadata": {
    "ExecuteTime": {
     "end_time": "2019-09-09T01:23:07.780078Z",
     "start_time": "2019-09-09T01:23:07.757325Z"
    },
    "scrolled": true
   },
   "outputs": [
    {
     "data": {
      "text/plain": [
       "{'_sa_instance_state': <sqlalchemy.orm.state.InstanceState at 0x7f28efc9bc50>,\n",
       " 'id': 17,\n",
       " 'user_id': 21,\n",
       " 'next_im': 'j',\n",
       " 'grade_c': '3',\n",
       " 'grade_a': '1',\n",
       " 'prev_im': 'k',\n",
       " 'nonlens': '0',\n",
       " 'grade_b': '2'}"
      ]
     },
     "execution_count": 7,
     "metadata": {},
     "output_type": "execute_result"
    }
   ],
   "source": [
    "dict(Conf.query.filter_by(user_id=res.u.id).first().__dict__)"
   ]
  },
  {
   "cell_type": "code",
   "execution_count": 18,
   "metadata": {
    "ExecuteTime": {
     "end_time": "2019-09-09T01:16:03.206381Z",
     "start_time": "2019-09-09T01:16:03.201217Z"
    }
   },
   "outputs": [
    {
     "data": {
      "text/plain": [
       "{'_sa_instance_state': <sqlalchemy.orm.state.InstanceState at 0x7f31ae4a0978>,\n",
       " 'id': 14,\n",
       " 'user_id': 18,\n",
       " 'next_im': 'j',\n",
       " 'grade_c': '3',\n",
       " 'grade_a': '1',\n",
       " 'prev_im': 'k',\n",
       " 'nonlens': '0',\n",
       " 'grade_b': '2'}"
      ]
     },
     "execution_count": 18,
     "metadata": {},
     "output_type": "execute_result"
    }
   ],
   "source": [
    "res.conf"
   ]
  },
  {
   "cell_type": "code",
   "execution_count": 26,
   "metadata": {
    "ExecuteTime": {
     "end_time": "2019-09-09T02:42:19.577661Z",
     "start_time": "2019-09-09T02:42:19.558132Z"
    }
   },
   "outputs": [
    {
     "data": {
      "text/plain": [
       "[<Image 6 84651020533.png @ Cat 1, Tag {}>,\n",
       " <Image 7 84651021925.png @ Cat 1, Tag {}>,\n",
       " <Image 8 84651022038.png @ Cat 1, Tag {}>,\n",
       " <Image 9 84651025036.png @ Cat 1, Tag {}>,\n",
       " <Image 10 84651025183.png @ Cat 1, Tag {}>]"
      ]
     },
     "execution_count": 26,
     "metadata": {},
     "output_type": "execute_result"
    }
   ],
   "source": [
    "res.im_query.order_by(Image.id.desc()).filter(Image.id > 5).all()"
   ]
  },
  {
   "cell_type": "code",
   "execution_count": 6,
   "metadata": {
    "ExecuteTime": {
     "end_time": "2019-09-09T02:35:51.191736Z",
     "start_time": "2019-09-09T02:35:51.184549Z"
    }
   },
   "outputs": [],
   "source": [
    "res.im_id = 4"
   ]
  },
  {
   "cell_type": "code",
   "execution_count": 24,
   "metadata": {
    "ExecuteTime": {
     "end_time": "2019-09-09T02:41:41.118870Z",
     "start_time": "2019-09-09T02:41:41.103506Z"
    }
   },
   "outputs": [
    {
     "data": {
      "text/plain": [
       "[<Image 10 84651025183.png @ Cat 1, Tag {}>,\n",
       " <Image 9 84651025036.png @ Cat 1, Tag {}>,\n",
       " <Image 8 84651022038.png @ Cat 1, Tag {}>,\n",
       " <Image 7 84651021925.png @ Cat 1, Tag {}>,\n",
       " <Image 6 84651020533.png @ Cat 1, Tag {}>]"
      ]
     },
     "execution_count": 24,
     "metadata": {},
     "output_type": "execute_result"
    }
   ],
   "source": [
    "Image.query.order_by(Image.id.desc()).filter(Image.id > 5).all()"
   ]
  },
  {
   "cell_type": "code",
   "execution_count": null,
   "metadata": {},
   "outputs": [],
   "source": []
  }
 ],
 "metadata": {
  "hide_input": false,
  "kernelspec": {
   "display_name": "work",
   "language": "python",
   "name": "work"
  },
  "language_info": {
   "codemirror_mode": {
    "name": "ipython",
    "version": 3
   },
   "file_extension": ".py",
   "mimetype": "text/x-python",
   "name": "python",
   "nbconvert_exporter": "python",
   "pygments_lexer": "ipython3",
   "version": "3.7.3"
  },
  "latex_envs": {
   "LaTeX_envs_menu_present": true,
   "autoclose": false,
   "autocomplete": true,
   "bibliofile": "biblio.bib",
   "cite_by": "apalike",
   "current_citInitial": 1,
   "eqLabelWithNumbers": true,
   "eqNumInitial": 1,
   "hotkeys": {
    "equation": "Ctrl-E",
    "itemize": "Ctrl-I"
   },
   "labels_anchors": false,
   "latex_user_defs": false,
   "report_style_numbering": false,
   "user_envs_cfg": false
  },
  "toc": {
   "base_numbering": 1,
   "nav_menu": {},
   "number_sections": true,
   "sideBar": true,
   "skip_h1_title": false,
   "title_cell": "Table of Contents",
   "title_sidebar": "Contents",
   "toc_cell": false,
   "toc_position": {},
   "toc_section_display": true,
   "toc_window_display": false
  },
  "varInspector": {
   "cols": {
    "lenName": 16,
    "lenType": 16,
    "lenVar": 40
   },
   "kernels_config": {
    "python": {
     "delete_cmd_postfix": "",
     "delete_cmd_prefix": "del ",
     "library": "var_list.py",
     "varRefreshCmd": "print(var_dic_list())"
    },
    "r": {
     "delete_cmd_postfix": ") ",
     "delete_cmd_prefix": "rm(",
     "library": "var_list.r",
     "varRefreshCmd": "cat(var_dic_list()) "
    }
   },
   "types_to_exclude": [
    "module",
    "function",
    "builtin_function_or_method",
    "instance",
    "_Feature"
   ],
   "window_display": false
  }
 },
 "nbformat": 4,
 "nbformat_minor": 2
}
